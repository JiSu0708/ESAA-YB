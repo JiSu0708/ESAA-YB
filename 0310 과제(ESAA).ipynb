{
 "cells": [
  {
   "cell_type": "markdown",
   "id": "587d8df6",
   "metadata": {},
   "source": [
    "# 1. 머신러닝의 개념"
   ]
  },
  {
   "cell_type": "markdown",
   "id": "e30c88a5",
   "metadata": {},
   "source": [
    "<머신러닝>\n",
    "\n",
    "데이터를 기반으로 패턴을 학습하고 결과를 예측하는 알고리즘 기법"
   ]
  },
  {
   "cell_type": "markdown",
   "id": "e8a56570",
   "metadata": {},
   "source": []
  },
  {
   "cell_type": "markdown",
   "id": "93b5b956",
   "metadata": {},
   "source": [
    "데이터 분석 영역에서 머신러닝\n",
    "- 데이터를 관통하는 패턴을 학습하고, 이에 기반한 예측 수행\n",
    "- 데이터를 기반으로 통계적인 신뢰도 강화\n",
    "- 예측 오류를 최소화하기 위한 다양한 수학적 기법 적용 \n",
    "→ 데이터 내의 패턴을 스스로 인지, 신뢰도 있는 예측 결과 도출\n",
    "- 머신러닝 기반의 예측 분석(Predictive Analysis)로 재편되고 있음\n",
    "- 많은 데이터 분석과와 데이터 과학자가 머신러닝 알고리즘 기반의 새로운 예측 모델을 이용해 더욱 정확한 예측 및 의사 결정 도출"
   ]
  },
  {
   "cell_type": "markdown",
   "id": "0fc6ff42",
   "metadata": {},
   "source": [
    "<머신러닝의 분류>\n",
    "- 지도 학습(Supervised Learning)\n",
    "\n",
    "분류(Classification), 회귀(Regression), 추천시스템,시각/음성 감지/인지, 텍스트 분석, NLP\n",
    "- 비지도 학습(Un-supervised Learning)\n",
    "\n",
    "클러스터링, 차원 축소, 강화학습\n",
    "- 강화학습(Reinforcement Learning)"
   ]
  },
  {
   "cell_type": "markdown",
   "id": "47e08dda",
   "metadata": {},
   "source": [
    "마스터 알고리즘(머신러닝 알고리즘의 유형)\n",
    "- 기호주의, 연결주의, 베이지안 통계, 유추주의 등"
   ]
  },
  {
   "cell_type": "markdown",
   "id": "9fc838f8",
   "metadata": {},
   "source": [
    "머신러닝의 단점: 데이터에 매우 의존적\n",
    "\n",
    "최적의 머신러닝 알고리즘과 모델 파라미터를 구축하는 능력도 중요하지만,\n",
    "\n",
    "데이터를 이해하고 효율적으로 가공, 처리, 추출해 최적의 데이터를 기반으로 알고리즘을 구동할 수 있도록 준비하는 능력 중요\n",
    "\n",
    "앞으로 많은 회사의 경쟁력은 어떠한 품질의 데이터로 만든 머신러닝 모델이냐에 따라 결정될 수 있음"
   ]
  },
  {
   "cell_type": "markdown",
   "id": "00920bd7",
   "metadata": {},
   "source": [
    "<R과 파이썬 비교>\n",
    "\n",
    "R\n",
    "    \n",
    "- 통계 전용 프로그램 언어\n",
    "- 장점: 다양하고 많은 통계 패키지 보유(통계 분석을 위해 특화된 언어)\n",
    "    \n",
    "    \n",
    "파이썬\n",
    "- 개발 전문 프로그램 언어(다양한 영역에서 사용)\n",
    "- 장점: 다양한 라이브러리, 직관적인 문법, 객체지향, 함수형 프로그"
   ]
  },
  {
   "cell_type": "markdown",
   "id": "3efa59a8",
   "metadata": {},
   "source": [
    "파이썬 특징\n",
    "- 쉽고 뛰어난 개발 생산성, 높은 활용도\n",
    "- 오픈 소스 계열의 전폭적인 지원\n",
    "- 많은 라이브러리로 인한 개발 시 높은 생산성\n",
    "- 인터프리터 언어(Interpreter Language)- 속도는 느리지만, 뛰어난 확장성, 유연성, 호환성으로 다양한 영역에서 사용\n",
    "- 머신러닝 애플리케이션과 결합한 다양한 애플리케이션 개발 가능\n",
    "- 다양한 기업 환경으로의 확산 가능"
   ]
  },
  {
   "cell_type": "markdown",
   "id": "6027aad1",
   "metadata": {},
   "source": [
    "# 2. 파이썬 머신러닝 주요 패키지"
   ]
  },
  {
   "cell_type": "markdown",
   "id": "45ebc7df",
   "metadata": {},
   "source": [
    "머신러닝 패키지\n",
    "- 사이킷런(Scikit-Learn): 파이썬 세계의 가장 대표적인 머신러닝패키지\n",
    "\n",
    "행렬/선형대수/통계 패키지\n",
    "- 머신러닝의 이론적 백그라운드: 선형대수, 통계\n",
    "- 넘파이(NumPy): 파이썬의 대표적인 행렬과 선형대수를 다루는 패키지\n",
    "- 사이파이(SciPy): 자연과학과 통계를 위한 다양한 패키지 보유\n",
    "\n",
    "데이터 핸들링\n",
    "- 맷플롯립:파이썬의 대표적인 시각화 패키지/라이브러리, 효율이 떨어지고 불편함\n",
    "- 시본(Seaborn): 맷플롯립의 API를 이용해 더 함축적으로 만든 라이브러리(맷플롯립 기반), 판다스와의 쉬운 연동, 더 함축적인 API, 분석을 위한 다양한 유형의 그래프/차트 제공 등으로 파이썬 기반의 데이터 분석가/과학자에게인기를 얻고 있음.\n"
   ]
  },
  {
   "cell_type": "markdown",
   "id": "4d22b288",
   "metadata": {},
   "source": [
    "아이파이썬(IPython, Interactive Python)\n",
    "- 대화형 파이썬 툴\n",
    "- 프로그래밍 + 이에 대한 설명적 요소\n",
    "- 직관적으로 어떤 코드가 어떤 역할을 하는지 쉽게 이해 가능\n",
    "\n",
    "\n",
    "주피터 노트북(Jupyter Notebook): 아이파이썬 툴\n"
   ]
  },
  {
   "cell_type": "markdown",
   "id": "be9a8f05",
   "metadata": {},
   "source": [
    "# 3. 넘파이 "
   ]
  },
  {
   "cell_type": "markdown",
   "id": "2e8a4b1c",
   "metadata": {},
   "source": [
    "넘파이(NumPy): Numerical Pyton. \n",
    "- 파이썬에서 선형대수 기반의 프로그램을 쉽게 만들 수 있도록 지원하는 대표적인 패키지.\n",
    "- 루프를 사용하지 않고 대량 데이터의 배열 연산을 가능하게 함 → 빠른 배열 연산 속도 보장\n",
    "- 대량 데이터 기반의 과학과 공학 프로그램/패키지는 넘파이에 의존\n",
    "- C/C++과 같은 저수준 언어 기반의 호환 API 제공\n",
    "- 파이썬 언어 자체가 가지는 수행 성능의 제약이 있음 → 수행 성능이 중요한 부분은 C/C++ 기반의 코드로 작성하고, 이를 넘파이에서 호출하는 방식으로 결합(ex. 텐서플로- 구글의 대표적인 딥러닝 프레임워크)\n",
    "- 배열 기반의 연산 + 다양한 데이터 핸들링 기능 제공\n",
    "- 파이썬의 대표적인 데이터 처리 패키지인 판다스의 편리성에서는 미치지 못함\n",
    "- 넘파이를 이해하는 것은 파이썬 기반의 머신러닝에서 매우 중요\n",
    "- 많은 알고리즘의 입력 데이터와 출력 데이터를 넘파이 배열 타입으로 사용"
   ]
  },
  {
   "cell_type": "markdown",
   "id": "c09ec5c7",
   "metadata": {},
   "source": [
    "----------------------------------------------------------------------------------------------------------------------------------------"
   ]
  },
  {
   "cell_type": "markdown",
   "id": "24c736f3",
   "metadata": {},
   "source": [
    "<넘파이 ndarray 개요>"
   ]
  },
  {
   "cell_type": "markdown",
   "id": "80958aaa",
   "metadata": {},
   "source": [
    "넘파이 모듈 임포트"
   ]
  },
  {
   "cell_type": "code",
   "execution_count": 16,
   "id": "af3d7952",
   "metadata": {},
   "outputs": [],
   "source": [
    "import numpy as np"
   ]
  },
  {
   "cell_type": "markdown",
   "id": "ef875074",
   "metadata": {},
   "source": [
    "import numpy만 해도 충분하지만, as np를 추가해 약어로 모듈을 표현해주는 게 관례"
   ]
  },
  {
   "cell_type": "markdown",
   "id": "1a3c9d13",
   "metadata": {},
   "source": [
    "----------------------------------------------------------------------------------------------------------------------------------------"
   ]
  },
  {
   "cell_type": "markdown",
   "id": "aea27611",
   "metadata": {},
   "source": [
    "ndarray\n",
    "- 넘파이 기반의 데이터 타입\n",
    "- ndarray를 이용해 넘파이에서 다차원(Multi-dimension) 배열을 쉽게 생성하고 다양한 연산 수행 가능\n",
    "\n",
    "넘파이 array() 함수\n",
    "- 파이썬의 리스트와 같은 다양한 인자를 입력 받아서 ndarray로 변환하는 기능 수행\n",
    "- shape 변수: ndarray의 크기, 즉 행과 열의 수를 튜플 형태로 가짐. 이를 통해 ndarray 배열의 차원까지 알 수 있음."
   ]
  },
  {
   "cell_type": "code",
   "execution_count": 17,
   "id": "2e2fbc5e",
   "metadata": {},
   "outputs": [
    {
     "name": "stdout",
     "output_type": "stream",
     "text": [
      "array1 type:  <class 'numpy.ndarray'>\n",
      "array1 array 형태:  (3,)\n",
      "array2 type:  <class 'numpy.ndarray'>\n",
      "array2 array 형태:  (2, 3)\n",
      "array3 type:  <class 'numpy.ndarray'>\n",
      "array3 array 형태:  (1, 3)\n"
     ]
    }
   ],
   "source": [
    "array1 = np.array([1,2,3])\n",
    "print('array1 type: ', type(array1))\n",
    "print('array1 array 형태: ', array1.shape)\n",
    "\n",
    "array2 = np.array([[1,2,3],\n",
    "                 [2,3,4]])\n",
    "print('array2 type: ', type(array2))\n",
    "print('array2 array 형태: ', array2.shape)\n",
    "\n",
    "array3 = np.array([[1,2,3]])\n",
    "print('array3 type: ', type(array3))\n",
    "print('array3 array 형태: ', array3.shape)"
   ]
  },
  {
   "cell_type": "markdown",
   "id": "36188784",
   "metadata": {},
   "source": [
    "np.array()\n",
    "- ndarray로 변환을 원하는 객체를 인자로 입력하면 ndarray를 반환\n",
    "\n",
    "ndarray.shape\n",
    "- ndarray의 차원과 크기를 튜플(tuple) 형태로 나타내 줌\n",
    "\n",
    "ex.\n",
    "- array1의 shape (3,): 1차원 array로, 3개의 데이터를 가지고 있음\n",
    "- array2의 shape (2,3): 2차원 array로, 2개의 row와 3개의 column으로 구성되어 6개의 데이터를 가지고 있음\n",
    "- array3의 shape (1,3): 2차원 array로, 1개의 row와 3개의 column으로 구성되어 3개의 데이터를 가지고 있음"
   ]
  },
  {
   "cell_type": "markdown",
   "id": "2a6929aa",
   "metadata": {},
   "source": [
    "----------------------------------------------------------------------------------------------------------------------------------------"
   ]
  },
  {
   "cell_type": "markdown",
   "id": "7fe2b835",
   "metadata": {},
   "source": [
    "ndarray.ndim\n",
    "- 각 array의 차원 확인"
   ]
  },
  {
   "cell_type": "code",
   "execution_count": 8,
   "id": "baf0cafc",
   "metadata": {},
   "outputs": [
    {
     "name": "stdout",
     "output_type": "stream",
     "text": [
      "array1: 1차원, array2: 2차원, array3:  2차원\n"
     ]
    }
   ],
   "source": [
    "print('array1: {:0}차원, array2: {:1}차원, array3: {:2}차원'.format(array1.ndim, array2.ndim, array3.ndim))"
   ]
  },
  {
   "cell_type": "markdown",
   "id": "217095da",
   "metadata": {},
   "source": [
    "array()함수의 인자로는 파이썬 리스트의 객체가 주로 사용됨"
   ]
  },
  {
   "cell_type": "markdown",
   "id": "4cc06b20",
   "metadata": {},
   "source": [
    "----------------------------------------------------------------------------------------------------------------------------------------"
   ]
  },
  {
   "cell_type": "markdown",
   "id": "28441546",
   "metadata": {},
   "source": [
    "\n",
    "<ndarray의 데이터 타입>"
   ]
  },
  {
   "cell_type": "markdown",
   "id": "36f17922",
   "metadata": {},
   "source": [
    "ndarray내의 데이터값: 숫자 값, 문자열 값, 불 값 모두 가능\n",
    "\n",
    "숫자형\n",
    "- int형 (8bit, 16bit, 32bit)\n",
    "- unsinged int형 (8bit, 16bit, 32bit)\n",
    "- float형 (16bit, 32bit, 64bit, 128bit)\n",
    "- complex 타입 (더 큰 숫자 값이나 정밀도)"
   ]
  },
  {
   "cell_type": "markdown",
   "id": "c675e0ad",
   "metadata": {},
   "source": [
    "ndarray의 데이터 타입\n",
    "- 같은 데이터 타입만 가능\n",
    "- dtype 속성으로 확인 가능"
   ]
  },
  {
   "cell_type": "code",
   "execution_count": 18,
   "id": "aebd778c",
   "metadata": {},
   "outputs": [
    {
     "name": "stdout",
     "output_type": "stream",
     "text": [
      "<class 'list'>\n",
      "<class 'numpy.ndarray'>\n",
      "[1 2 3] int32\n"
     ]
    }
   ],
   "source": [
    "list1 = [1,2,3]\n",
    "print(type(list1))\n",
    "array1 = np.array(list1)\n",
    "print(type(array1))\n",
    "print(array1, array1.dtype)"
   ]
  },
  {
   "cell_type": "markdown",
   "id": "38bb5b39",
   "metadata": {},
   "source": [
    "if>> 다른 데이터 유형이 섞여 있는 리스트를 ndarray로 변경하면, 데이터 크기가 더 큰 데이터 타입으로 형 변환을 일괄 적용함"
   ]
  },
  {
   "cell_type": "code",
   "execution_count": 19,
   "id": "7334a96c",
   "metadata": {},
   "outputs": [
    {
     "name": "stdout",
     "output_type": "stream",
     "text": [
      "['1' '2' 'test'] <U11\n",
      "[1. 2. 3.] float64\n"
     ]
    }
   ],
   "source": [
    "list2 = [1,2,'test']\n",
    "array2 = np.array(list2)\n",
    "print(array2, array2.dtype)\n",
    "\n",
    "list3 = [1,2, 3.0]\n",
    "array3 = np.array(list3)\n",
    "print(array3, array3.dtype)"
   ]
  },
  {
   "cell_type": "markdown",
   "id": "b803946d",
   "metadata": {},
   "source": [
    "astype() aptjem\n",
    "- ndarray 내 데이터값의 타입 변경\n",
    "- astype()에 인자로 원하는 타입을 문자열로 지정\n",
    "- 메모리를 절약해야 할 때 보통 이용됨"
   ]
  },
  {
   "cell_type": "code",
   "execution_count": 20,
   "id": "82844848",
   "metadata": {},
   "outputs": [
    {
     "name": "stdout",
     "output_type": "stream",
     "text": [
      "[1. 2. 3.] float64\n",
      "[1 2 3] int32\n",
      "[1 2 3] int32\n"
     ]
    }
   ],
   "source": [
    "array_int = np.array([1,2,3])\n",
    "array_float = array_int.astype('float64')\n",
    "print(array_float, array_float.dtype)\n",
    "\n",
    "array_int1 = array_float.astype('int32')\n",
    "print(array_int1, array_int1.dtype)\n",
    "\n",
    "array_float1 = np.array([1.1, 2.1, 3.1])\n",
    "array_int2 = array_float1.astype('int32')\n",
    "print(array_int2, array_int2.dtype)"
   ]
  },
  {
   "cell_type": "markdown",
   "id": "5920dc0e",
   "metadata": {},
   "source": [
    "----------------------------------------------------------------------------------------------------------------------------------------"
   ]
  },
  {
   "cell_type": "markdown",
   "id": "251ccc4a",
   "metadata": {},
   "source": [
    "<ndarray를 편리하게 생성하기 - arrange, zeros, ones>\n",
    "- 특정 크기와 차원을 가진 ndarray를 연속값이나 0또는 1로 초기화해 쉽게 생성해야 할 필요가 있는 경우\n",
    "- arrange(), zeros(), ones()를 이용해 쉽게 ndarray를 생성 가능\n",
    "- 주로 테스트용으로 데이터를 만들거나 대규모의 데이터를 일괄적으로 초기화해야 할 경우에 사용"
   ]
  },
  {
   "cell_type": "markdown",
   "id": "13ded96f",
   "metadata": {},
   "source": [
    "arrange()\n",
    "- 파이썬 표준 함수인 range()와 유사한 기능\n",
    "- array를 range()로 표현하는 것\n",
    "- 0부터 함수 인자 값 -1까지의 값을 순차적으로 ndarray의 데이터값으로 변환해 줌"
   ]
  },
  {
   "cell_type": "code",
   "execution_count": 21,
   "id": "cbfa6b5b",
   "metadata": {},
   "outputs": [
    {
     "name": "stdout",
     "output_type": "stream",
     "text": [
      "[0 1 2 3 4 5 6 7 8 9]\n",
      "int32 (10,)\n"
     ]
    }
   ],
   "source": [
    "sequence_array = np.arange(10)\n",
    "print(sequence_array)\n",
    "print(sequence_array.dtype, sequence_array.shape)"
   ]
  },
  {
   "cell_type": "markdown",
   "id": "b5c2f8c9",
   "metadata": {},
   "source": [
    "default 함수 인자는 stop 값이며, 0부터 stop 값인 10에서 -1을 더한 9까지의 연속 숫자 값으로 구성된 1차원 ndarray를 만들어 줌.\n",
    "여기서는 stop 값만 부여했으나 range와 유사하게 start 값도 부여해 0이 아닌 다른 값부터 시작한 연속 값을 부여할 수도 있음."
   ]
  },
  {
   "cell_type": "markdown",
   "id": "cd7485c4",
   "metadata": {},
   "source": [
    "zeros()\n",
    "- 함수 인자로 튜플 형태의 shape 값을 입력\n",
    "- 모든 값을 0으로 채운 해당 shape을 가진 ndarray를 반환\n",
    "\n",
    "ones()\n",
    "- 함수 인자로 튜플 형태의 shape 값을 입력\n",
    "- 모든 값을 1로 채운 해당 shape을 가진 ndarray를 반환\n",
    "\n",
    "/* 함수 인자로 dtype을 정해주지 않으면 default로 float64 형의 데이터로 ndarray를 채움."
   ]
  },
  {
   "cell_type": "code",
   "execution_count": 22,
   "id": "69a64494",
   "metadata": {},
   "outputs": [
    {
     "name": "stdout",
     "output_type": "stream",
     "text": [
      "[[0 0]\n",
      " [0 0]\n",
      " [0 0]]\n",
      "int32 (3, 2)\n",
      "[[1. 1.]\n",
      " [1. 1.]\n",
      " [1. 1.]]\n",
      "float64 (3, 2)\n"
     ]
    }
   ],
   "source": [
    "zero_array = np.zeros((3,2), dtype='int32')\n",
    "print(zero_array)\n",
    "print(zero_array.dtype, zero_array.shape)\n",
    "\n",
    "one_array = np.ones((3,2))\n",
    "print(one_array)\n",
    "print(one_array.dtype, one_array.shape)"
   ]
  },
  {
   "cell_type": "markdown",
   "id": "89e74fd0",
   "metadata": {},
   "source": [
    "----------------------------------------------------------------------------------------------------------------------------------------"
   ]
  },
  {
   "cell_type": "markdown",
   "id": "f5b5e04b",
   "metadata": {},
   "source": [
    "<ndaary의 차원과 크기를 변경하는 reshape()>\n",
    "\n",
    "reshape()\n",
    "- ndarray를 특정 차원 및 크기로 변환\n",
    "- 변환을 원하는 크기를 함수 인자로 부여"
   ]
  },
  {
   "cell_type": "code",
   "execution_count": 23,
   "id": "5c3b9e75",
   "metadata": {},
   "outputs": [
    {
     "name": "stdout",
     "output_type": "stream",
     "text": [
      "array1:\n",
      " [0 1 2 3 4 5 6 7 8 9]\n",
      "array2:\n",
      " [[0 1 2 3 4]\n",
      " [5 6 7 8 9]]\n",
      "array3:\n",
      " [[0 1]\n",
      " [2 3]\n",
      " [4 5]\n",
      " [6 7]\n",
      " [8 9]]\n"
     ]
    }
   ],
   "source": [
    "array1 = np.arange(10)\n",
    "print('array1:\\n', array1)\n",
    "\n",
    "array2 = array1.reshape(2,5)\n",
    "print('array2:\\n', array2)\n",
    "\n",
    "array3 = array1.reshape(5,2)\n",
    "print('array3:\\n', array3)"
   ]
  },
  {
   "cell_type": "markdown",
   "id": "117cf265",
   "metadata": {},
   "source": [
    "reshape()는 지정된 사이즈로 변경이 불가능하면 오류를 발생함."
   ]
  },
  {
   "cell_type": "code",
   "execution_count": 24,
   "id": "8de795c7",
   "metadata": {},
   "outputs": [
    {
     "ename": "ValueError",
     "evalue": "cannot reshape array of size 10 into shape (4,3)",
     "output_type": "error",
     "traceback": [
      "\u001b[1;31m---------------------------------------------------------------------------\u001b[0m",
      "\u001b[1;31mValueError\u001b[0m                                Traceback (most recent call last)",
      "Input \u001b[1;32mIn [24]\u001b[0m, in \u001b[0;36m<cell line: 2>\u001b[1;34m()\u001b[0m\n\u001b[0;32m      1\u001b[0m \u001b[38;5;66;03m#ex.\u001b[39;00m\n\u001b[1;32m----> 2\u001b[0m \u001b[43marray1\u001b[49m\u001b[38;5;241;43m.\u001b[39;49m\u001b[43mreshape\u001b[49m\u001b[43m(\u001b[49m\u001b[38;5;241;43m4\u001b[39;49m\u001b[43m,\u001b[49m\u001b[38;5;241;43m3\u001b[39;49m\u001b[43m)\u001b[49m\n",
      "\u001b[1;31mValueError\u001b[0m: cannot reshape array of size 10 into shape (4,3)"
     ]
    }
   ],
   "source": [
    "#ex.\n",
    "array1.reshape(4,3)"
   ]
  },
  {
   "cell_type": "markdown",
   "id": "0c953988",
   "metadata": {},
   "source": [
    "reshape()에서 -1을 인자로 사용하면 원래 ndarray와 호환되는 새로운 shape로 변환해 줌."
   ]
  },
  {
   "cell_type": "code",
   "execution_count": 25,
   "id": "0d8aca5d",
   "metadata": {},
   "outputs": [
    {
     "name": "stdout",
     "output_type": "stream",
     "text": [
      "[0 1 2 3 4 5 6 7 8 9]\n",
      "array2 shape:  (2, 5)\n",
      "array3 shape:  (5, 2)\n"
     ]
    }
   ],
   "source": [
    "array1 = np.arange(10)\n",
    "print(array1)\n",
    "array2 = array1.reshape(-1,5)\n",
    "print('array2 shape: ', array2.shape)\n",
    "array3 = array1.reshape(5,-1)\n",
    "print('array3 shape: ', array3.shape)"
   ]
  },
  {
   "cell_type": "markdown",
   "id": "533367f1",
   "metadata": {},
   "source": [
    "array1과 호환될 수 있는 2차원 ndarray로 변환하되, 고정된 5개의 칼럼에 맞는 로우를 자동으로 새롭게 생성해 변환하라는 의미. 10개의 1차원 데이터와 호환될 수 있는 고정된 5개 칼럼에 맞는 로우 개수는 2이므로 2*5의 2차원 ndarray로 변환.\n",
    "\n",
    "단, -1을 사용하더라도 호환될 수 없는 형태는 변환 불가."
   ]
  },
  {
   "cell_type": "code",
   "execution_count": 26,
   "id": "af97b1e6",
   "metadata": {},
   "outputs": [
    {
     "ename": "ValueError",
     "evalue": "cannot reshape array of size 10 into shape (4)",
     "output_type": "error",
     "traceback": [
      "\u001b[1;31m---------------------------------------------------------------------------\u001b[0m",
      "\u001b[1;31mValueError\u001b[0m                                Traceback (most recent call last)",
      "Input \u001b[1;32mIn [26]\u001b[0m, in \u001b[0;36m<cell line: 3>\u001b[1;34m()\u001b[0m\n\u001b[0;32m      1\u001b[0m \u001b[38;5;66;03m#ex.\u001b[39;00m\n\u001b[0;32m      2\u001b[0m array1 \u001b[38;5;241m=\u001b[39m np\u001b[38;5;241m.\u001b[39marange(\u001b[38;5;241m10\u001b[39m)\n\u001b[1;32m----> 3\u001b[0m array4 \u001b[38;5;241m=\u001b[39m \u001b[43marray1\u001b[49m\u001b[38;5;241;43m.\u001b[39;49m\u001b[43mreshape\u001b[49m\u001b[43m(\u001b[49m\u001b[38;5;241;43m-\u001b[39;49m\u001b[38;5;241;43m1\u001b[39;49m\u001b[43m,\u001b[49m\u001b[38;5;241;43m4\u001b[39;49m\u001b[43m)\u001b[49m\n",
      "\u001b[1;31mValueError\u001b[0m: cannot reshape array of size 10 into shape (4)"
     ]
    }
   ],
   "source": [
    "#ex.\n",
    "array1 = np.arange(10)\n",
    "array4 = array1.reshape(-1,4)"
   ]
  },
  {
   "cell_type": "markdown",
   "id": "75be9aab",
   "metadata": {},
   "source": [
    "reshape(-1,1)\n",
    "- 원본 ndarray가 어떤 형태라도 2차원이고, 여러 개의 row를 가지되 반드시 1개의 column을 가진 ndarray로 변환됨을 보장\n",
    "\n",
    "\n",
    "/* 여러 개의 넘파이 ndarray는 stack이나 concat으로 결합할 때 각각의 ndarray의 형태를 통일해 유용하게 사용됨.\n",
    "\n",
    "/* ndaaray는 tolist() 메서드를 이용해 리스트 자료형으로 변환할 수 있음."
   ]
  },
  {
   "cell_type": "code",
   "execution_count": 27,
   "id": "9b5f689c",
   "metadata": {},
   "outputs": [
    {
     "name": "stdout",
     "output_type": "stream",
     "text": [
      "array3d:\n",
      " [[[0, 1], [2, 3]], [[4, 5], [6, 7]]]\n",
      "array5:\n",
      " [[0], [1], [2], [3], [4], [5], [6], [7]]\n",
      "array5 shape:  (8, 1)\n",
      "array6:\n",
      " [[0], [1], [2], [3], [4], [5], [6], [7]]\n",
      "array6 shape:  (8, 1)\n"
     ]
    }
   ],
   "source": [
    "array1 = np.arange(8)\n",
    "array3d = array1.reshape((2,2,2))\n",
    "print('array3d:\\n', array3d.tolist())\n",
    "\n",
    "# 3차원 ndarray를 2차원 ndarray로 변환\n",
    "array5 = array3d.reshape(-1,1)\n",
    "print('array5:\\n', array5.tolist())\n",
    "print('array5 shape: ', array5.shape)\n",
    "\n",
    "# 1차원 ndarray를 2차원 ndarray로 변환\n",
    "array6 = array1.reshape(-1,1)\n",
    "print('array6:\\n', array6.tolist())\n",
    "print('array6 shape: ', array6.shape)"
   ]
  },
  {
   "cell_type": "markdown",
   "id": "4cd3d34b",
   "metadata": {},
   "source": [
    "----------------------------------------------------------------------------------------------------------------------------------------"
   ]
  },
  {
   "cell_type": "markdown",
   "id": "cd69b04c",
   "metadata": {},
   "source": [
    "<넘파이의 ndarray의 데이터 세트 선택하기 - 인덱싱(Indexing)>"
   ]
  },
  {
   "cell_type": "markdown",
   "id": "b97dc12c",
   "metadata": {},
   "source": [
    "인덱싱(Indexing): 넘파이에서 ndarray 내의 일부 데이터 세트나 특정 데이터만을 선택\n",
    "- 특정한 데이터만 추출\n",
    "- 슬라이싱(Slicing)\n",
    "- 팬시 인덱싱(Fancy Indexing)\n",
    "- 불린 인덱싱(Boolean Indexing)"
   ]
  },
  {
   "cell_type": "markdown",
   "id": "1035198a",
   "metadata": {},
   "source": [
    "단일 값 추출"
   ]
  },
  {
   "cell_type": "code",
   "execution_count": 28,
   "id": "a20876c5",
   "metadata": {},
   "outputs": [
    {
     "name": "stdout",
     "output_type": "stream",
     "text": [
      "array1:  [1 2 3 4 5 6 7 8 9]\n",
      "value:  3\n",
      "<class 'numpy.int32'>\n"
     ]
    }
   ],
   "source": [
    "# 1부터 9까지의 1차원 ndarray 생성\n",
    "array1 = np.arange(start=1, stop=10)\n",
    "print('array1: ', array1)\n",
    "#index는 0부터 시작하므로 array1[2]는 3번째 index 위치의 데이터값을 의미\n",
    "value = array1[2]\n",
    "print('value: ', value)\n",
    "print(type(value))"
   ]
  },
  {
   "cell_type": "code",
   "execution_count": 29,
   "id": "63c26681",
   "metadata": {},
   "outputs": [
    {
     "name": "stdout",
     "output_type": "stream",
     "text": [
      "맨 뒤의 값:  9  맨 뒤에서 두 번째 값:  8\n"
     ]
    }
   ],
   "source": [
    "print('맨 뒤의 값: ', array1[-1], ' 맨 뒤에서 두 번째 값: ', array1[-2])"
   ]
  },
  {
   "cell_type": "code",
   "execution_count": 30,
   "id": "97fa0e4a",
   "metadata": {},
   "outputs": [
    {
     "name": "stdout",
     "output_type": "stream",
     "text": [
      "array1:  [9 2 3 4 5 6 7 8 0]\n"
     ]
    }
   ],
   "source": [
    "array1[0]=9\n",
    "array1[8]=0\n",
    "print('array1: ', array1)"
   ]
  },
  {
   "cell_type": "code",
   "execution_count": 31,
   "id": "0996c149",
   "metadata": {},
   "outputs": [
    {
     "name": "stdout",
     "output_type": "stream",
     "text": [
      "[[1 2 3]\n",
      " [4 5 6]\n",
      " [7 8 9]]\n",
      "(row=0, col=0) index 가리키는 값:  1\n",
      "(row=0, col=1) index 가리키는 값:  2\n",
      "(row=1, col=0) index 가리키는 값:  4\n",
      "(row=2, col=2) index 가리키는 값:  9\n"
     ]
    }
   ],
   "source": [
    "array1d = np.arange(start=1, stop=10)\n",
    "array2d = array1d.reshape(3,3)\n",
    "print(array2d)\n",
    "\n",
    "print('(row=0, col=0) index 가리키는 값: ', array2d[0,0])\n",
    "print('(row=0, col=1) index 가리키는 값: ', array2d[0,1])\n",
    "print('(row=1, col=0) index 가리키는 값: ', array2d[1,0])\n",
    "print('(row=2, col=2) index 가리키는 값: ', array2d[2,2])"
   ]
  },
  {
   "cell_type": "markdown",
   "id": "d99a2dde",
   "metadata": {},
   "source": [
    "axis0: 로우(row) 방향의 축  \n",
    "axis1: 칼럼(column) 방향의 축\n",
    "\n",
    "즉, 위의 예시에서 [row=0, col=1]의 인덱싱은 [axis 0=0, axis 1=1]이 정확한 표현\n",
    "\n",
    "/* 3차원 ndarray의 경우: 3개의 축 - axis 0, axis 1, axis 2 (행, 열, 높이)\n",
    "\n",
    "/* axis가 생략되면 axis 0을 의미"
   ]
  },
  {
   "cell_type": "markdown",
   "id": "c13b69ef",
   "metadata": {},
   "source": [
    "슬라이싱"
   ]
  },
  {
   "cell_type": "code",
   "execution_count": 34,
   "id": "98aa1745",
   "metadata": {},
   "outputs": [
    {
     "name": "stdout",
     "output_type": "stream",
     "text": [
      "[1 2 3]\n",
      "<class 'numpy.ndarray'>\n"
     ]
    }
   ],
   "source": [
    "array1 = np.arange(start=1, stop=10)\n",
    "array3 = array1[0:3]\n",
    "print(array3)\n",
    "print(type(array3))"
   ]
  },
  {
   "cell_type": "code",
   "execution_count": 37,
   "id": "94aee59d",
   "metadata": {},
   "outputs": [
    {
     "name": "stdout",
     "output_type": "stream",
     "text": [
      "[1 2 3]\n",
      "[4 5 6 7 8 9]\n",
      "[1 2 3 4 5 6 7 8 9]\n"
     ]
    }
   ],
   "source": [
    "array1 = np.arange(start=1, stop=10)\n",
    "array4 = array1[:3]\n",
    "print(array4)\n",
    "\n",
    "array5 = array1[3:]\n",
    "print(array5)\n",
    "\n",
    "array6 = array1[:]\n",
    "print(array6)"
   ]
  },
  {
   "cell_type": "code",
   "execution_count": 39,
   "id": "a0942e96",
   "metadata": {},
   "outputs": [
    {
     "name": "stdout",
     "output_type": "stream",
     "text": [
      "array2d:\n",
      " [[1 2 3]\n",
      " [4 5 6]\n",
      " [7 8 9]]\n",
      "array2d[0:2, 0:2] \n",
      " [[1 2]\n",
      " [4 5]]\n",
      "array2d[1:3, 0:3] \n",
      " [[4 5 6]\n",
      " [7 8 9]]\n",
      "array2d[1:3, :] \n",
      " [[4 5 6]\n",
      " [7 8 9]]\n",
      "array2d[:, :] \n",
      " [[1 2 3]\n",
      " [4 5 6]\n",
      " [7 8 9]]\n",
      "array2d[:2, 1:] \n",
      " [[2 3]\n",
      " [5 6]]\n",
      "array2d[:2, 0] \n",
      " [1 4]\n"
     ]
    }
   ],
   "source": [
    "array1d = np.arange(start=1, stop=10)\n",
    "array2d = array1d.reshape(3,3)\n",
    "print('array2d:\\n', array2d)\n",
    "\n",
    "print('array2d[0:2, 0:2] \\n', array2d[0:2, 0:2])\n",
    "print('array2d[1:3, 0:3] \\n', array2d[1:3, 0:3])\n",
    "print('array2d[1:3, :] \\n', array2d[1:3, :])\n",
    "print('array2d[:, :] \\n', array2d[:, :])\n",
    "print('array2d[:2, 1:] \\n', array2d[:2, 1:])\n",
    "print('array2d[:2, 0] \\n', array2d[:2, 0])"
   ]
  },
  {
   "cell_type": "code",
   "execution_count": 41,
   "id": "351b7af8",
   "metadata": {},
   "outputs": [
    {
     "name": "stdout",
     "output_type": "stream",
     "text": [
      "[1 2 3]\n",
      "[4 5 6]\n",
      "array2d[0] shape: (3,) array2d[1] shape: (3,)\n"
     ]
    }
   ],
   "source": [
    "print(array2d[0])\n",
    "print(array2d[1])\n",
    "print('array2d[0] shape:',array2d[0].shape, 'array2d[1] shape:', array2d[1].shape)"
   ]
  },
  {
   "cell_type": "markdown",
   "id": "85a8c079",
   "metadata": {},
   "source": [
    "팬시 인덱싱(Fancy Indexing)"
   ]
  },
  {
   "cell_type": "code",
   "execution_count": 43,
   "id": "23079f11",
   "metadata": {},
   "outputs": [
    {
     "name": "stdout",
     "output_type": "stream",
     "text": [
      "array2d[[0,1],2] =>  [3, 6]\n",
      "array2d[[0,1],0:2] =>  [[1, 2], [4, 5]]\n",
      "array2d[[0,1]] =>  2\n"
     ]
    }
   ],
   "source": [
    "array1d = np.arange(start=1, stop=10)\n",
    "array2d = array1.reshape(3,3)\n",
    "\n",
    "array3 = array2d[[0,1],2]\n",
    "print('array2d[[0,1],2] => ', array3.tolist())\n",
    "\n",
    "array4 = array2d[[0,1],0:2]\n",
    "print('array2d[[0,1],0:2] => ', array4.tolist())\n",
    "\n",
    "array5 = array2d[0,1]\n",
    "print('array2d[[0,1]] => ', array5.tolist())"
   ]
  },
  {
   "cell_type": "markdown",
   "id": "af028b7c",
   "metadata": {},
   "source": [
    "array5: array2d[0,1]는 ((0, :), (1,:)) 인덱싱이 적용돼 [[1,2,3], [4,5,6]]을 반환."
   ]
  },
  {
   "cell_type": "markdown",
   "id": "6c312dbc",
   "metadata": {},
   "source": [
    "불린 인덱싱(Boolean Indexing)\n",
    "- 조건 필터링과 검색을 동시에 가능\n",
    "- ndarray의 인덱스를 지정하는 [ ]내에 조건문을 그대로 기재"
   ]
  },
  {
   "cell_type": "code",
   "execution_count": 48,
   "id": "59b85662",
   "metadata": {},
   "outputs": [
    {
     "name": "stdout",
     "output_type": "stream",
     "text": [
      "array1d > 5 불린 인덱싱 결과 값:  [6 7 8 9]\n"
     ]
    }
   ],
   "source": [
    "array1d = np.arange(start=1, stop=10)\n",
    "#[ ] 안에 array1d > 5 Boolean indexing을 적용\n",
    "array3 = array1d[array1d > 5]\n",
    "print('array1d > 5 불린 인덱싱 결과 값: ', array3)"
   ]
  },
  {
   "cell_type": "code",
   "execution_count": 49,
   "id": "8c7ccffb",
   "metadata": {},
   "outputs": [
    {
     "data": {
      "text/plain": [
       "array([False, False, False, False, False,  True,  True,  True,  True])"
      ]
     },
     "execution_count": 49,
     "metadata": {},
     "output_type": "execute_result"
    }
   ],
   "source": [
    "array1d > 5"
   ]
  },
  {
   "cell_type": "code",
   "execution_count": 50,
   "id": "2e10fbe3",
   "metadata": {},
   "outputs": [
    {
     "name": "stdout",
     "output_type": "stream",
     "text": [
      "불린 인덱스로 필터링 결과:  [6 7 8 9]\n"
     ]
    }
   ],
   "source": [
    "boolean_indexes = np.array([False, False, False, False, False,  True,  True,  True,  True])\n",
    "array3 = array1d[boolean_indexes]\n",
    "print('불린 인덱스로 필터링 결과: ', array3)"
   ]
  },
  {
   "cell_type": "markdown",
   "id": "e29bb842",
   "metadata": {},
   "source": [
    "[불린 인덱싱이 동작하는 단계]   \n",
    "    Step1: array1d > 5와 같이 ndarray의 필터링 조건을 [ ] 안에 기재  \n",
    "    Step2: False 값은 무시하고 True 값에 해당하는 인덱스값만 저장(유의해야 할 사항은 True값 자체인 1을 저장하는 것이 아니라 True값을 가진 인덱스를 저장한다는 것)  \n",
    "    Step3: 저장된 인덱스 데이터 세트로 ndarray 조회"
   ]
  },
  {
   "cell_type": "markdown",
   "id": "a95e114a",
   "metadata": {},
   "source": [
    "----------------------------------------------------------------------------------------------------------------------------------------"
   ]
  },
  {
   "cell_type": "markdown",
   "id": "546ed5cd",
   "metadata": {},
   "source": [
    "행렬의 정렬 - sort()와 argsort()"
   ]
  },
  {
   "cell_type": "markdown",
   "id": "92695c0a",
   "metadata": {},
   "source": [
    "행렬 정렬\n",
    "- np.sort(): 넘파이에서 sort()를 호출하는 방식. 원 행렬은 그대로 유지한 채 원 행렬의 정렬된 행렬을 반환.\n",
    "- ndarrayy.sort(): 행렬 자체에서 sort()를 호출하는 방식. 원 행렬 자체를 정렬한 형태로 변환하며 반환 값은 None.\n"
   ]
  },
  {
   "cell_type": "code",
   "execution_count": 53,
   "id": "baa60ba5",
   "metadata": {},
   "outputs": [
    {
     "name": "stdout",
     "output_type": "stream",
     "text": [
      "원본 행렬: [3 1 9 5]\n",
      "np.sort() 호출 후 반환된 정렬 행렬: [1 3 5 9]\n",
      "np.sort() 호출 후 원본 행렬: [3 1 9 5]\n",
      "org_array.sort()) 호출 후 반환된 정렬 행렬: None\n",
      "org_array.sort() 호출 후 원본 행렬: [1 3 5 9]\n"
     ]
    }
   ],
   "source": [
    "org_array = np.array([3,1,9,5])\n",
    "print('원본 행렬:', org_array)\n",
    "# np.sort()로 정렬\n",
    "sort_array1 = np.sort(org_array)\n",
    "print('np.sort() 호출 후 반환된 정렬 행렬:', sort_array1)\n",
    "print('np.sort() 호출 후 원본 행렬:', org_array)\n",
    "# ndarrayy.sort()로 정렬\n",
    "sort_array2 = org_array.sort()\n",
    "print('org_array.sort()) 호출 후 반환된 정렬 행렬:', sort_array2)\n",
    "print('org_array.sort() 호출 후 원본 행렬:', org_array)"
   ]
  },
  {
   "cell_type": "code",
   "execution_count": 55,
   "id": "97c9c43f",
   "metadata": {},
   "outputs": [
    {
     "name": "stdout",
     "output_type": "stream",
     "text": [
      "내림차순으로 정렬: [9 5 3 1]\n"
     ]
    }
   ],
   "source": [
    "sort_array1_desc = np.sort(org_array)[::-1]\n",
    "print('내림차순으로 정렬:', sort_array1_desc)"
   ]
  },
  {
   "cell_type": "code",
   "execution_count": 56,
   "id": "8cd77288",
   "metadata": {},
   "outputs": [
    {
     "name": "stdout",
     "output_type": "stream",
     "text": [
      "로우 방향으로 정렬:\n",
      " [[ 7  1]\n",
      " [ 8 12]]\n",
      "칼럼 방향으로 정렬:\n",
      " [[ 8 12]\n",
      " [ 1  7]]\n"
     ]
    }
   ],
   "source": [
    "array2d = np.array([[8,12],\n",
    "                  [7,1]])\n",
    "\n",
    "sort_array2d_axis0 = np.sort(array2d, axis=0)\n",
    "print('로우 방향으로 정렬:\\n', sort_array2d_axis0)\n",
    "\n",
    "sort_array2d_axis1 = np.sort(array2d, axis=1)\n",
    "print('칼럼 방향으로 정렬:\\n', sort_array2d_axis1)"
   ]
  },
  {
   "cell_type": "markdown",
   "id": "dca07f8f",
   "metadata": {},
   "source": [
    "정렬된 행렬의 인덱스 반환하기"
   ]
  },
  {
   "cell_type": "code",
   "execution_count": 58,
   "id": "5ea65323",
   "metadata": {},
   "outputs": [
    {
     "name": "stdout",
     "output_type": "stream",
     "text": [
      "<class 'numpy.ndarray'>\n",
      "행렬 정렬 시 원본 행렬의 인덱스: [1 0 3 2]\n"
     ]
    }
   ],
   "source": [
    "org_array = np.array([3,1,9,5])\n",
    "sort_indices = np.argsort(org_array)\n",
    "print(type(sort_indices))\n",
    "print('행렬 정렬 시 원본 행렬의 인덱스:', sort_indices)"
   ]
  },
  {
   "cell_type": "code",
   "execution_count": 59,
   "id": "e0fb694a",
   "metadata": {},
   "outputs": [
    {
     "name": "stdout",
     "output_type": "stream",
     "text": [
      "행렬 내림차순 정렬 시 원본 행렬의 인덱스: [2 3 0 1]\n"
     ]
    }
   ],
   "source": [
    "org_array = np.array([3,1,9,5])\n",
    "sort_indices_desc = np.argsort(org_array)[::-1]\n",
    "print('행렬 내림차순 정렬 시 원본 행렬의 인덱스:', sort_indices_desc)"
   ]
  },
  {
   "cell_type": "code",
   "execution_count": 60,
   "id": "3562ace6",
   "metadata": {},
   "outputs": [
    {
     "name": "stdout",
     "output_type": "stream",
     "text": [
      "성적 오름차순 정렬 시 score_array의 인덱스: [0 2 4 1 3]\n",
      "성적 오름차순으로 name_array의 이름 출력: ['John' 'Sarah' 'Samuel' 'Mike' 'Kate']\n"
     ]
    }
   ],
   "source": [
    "import numpy as np\n",
    "\n",
    "name_array = np.array(['John', 'Mike', 'Sarah', 'Kate', 'Samuel'])\n",
    "score_array = np.array([78, 95, 84, 98, 88])\n",
    "\n",
    "sort_indices_asc = np.argsort(score_array)\n",
    "print('성적 오름차순 정렬 시 score_array의 인덱스:', sort_indices_asc)\n",
    "print('성적 오름차순으로 name_array의 이름 출력:', name_array[sort_indices_asc])"
   ]
  },
  {
   "cell_type": "markdown",
   "id": "5dcdce76",
   "metadata": {},
   "source": [
    "----------------------------------------------------------------------------------------------------------------------------------------"
   ]
  },
  {
   "cell_type": "markdown",
   "id": "f979505b",
   "metadata": {},
   "source": [
    "<선형대수 연산 - 행렬 내적과 전치 행렬 구하기>  "
   ]
  },
  {
   "cell_type": "markdown",
   "id": "f1f03914",
   "metadata": {},
   "source": [
    "행렬 내적(행렬 곱)\n",
    "- np.dot()\n",
    "- 왼쪽 행렬이 로우(행)과 오른쪽 행렬의 칼럼(열)의 원소들을 순차적으로 곱한 뒤 그 결과를 모두 더한 값\n",
    "- 행렬 내적의 특성으로 왼쪽 행렬의 열 개수와 오른쪽 행렬의 행 개수가 동일해야 내적 연산이 가능\n"
   ]
  },
  {
   "cell_type": "code",
   "execution_count": 63,
   "id": "84872ccf",
   "metadata": {},
   "outputs": [
    {
     "name": "stdout",
     "output_type": "stream",
     "text": [
      "행렬 내적 결과:\n",
      " [[ 58  64]\n",
      " [139 154]]\n"
     ]
    }
   ],
   "source": [
    "A = np.array([[1,2,3],\n",
    "             [4,5,6]])\n",
    "\n",
    "B = np.array([[7,8],\n",
    "             [9,10],\n",
    "             [11,12]])\n",
    "\n",
    "dot_product = np.dot(A,B)\n",
    "print('행렬 내적 결과:\\n', dot_product)"
   ]
  },
  {
   "cell_type": "markdown",
   "id": "add65c90",
   "metadata": {},
   "source": [
    "전치 행렬\n",
    "- np.transpose()\n",
    "- 원 행렬에서 행과 열 위치를 교환한 원소로 구성된 행렬\n",
    "- 행렬 A의 전치 행렬은 A**T와 같이 표기"
   ]
  },
  {
   "cell_type": "code",
   "execution_count": 64,
   "id": "ab5d22b8",
   "metadata": {},
   "outputs": [
    {
     "name": "stdout",
     "output_type": "stream",
     "text": [
      "A의 전치 행렬:\n",
      ": [[1 3]\n",
      " [2 4]]\n"
     ]
    }
   ],
   "source": [
    "A = np.array([[1,2],\n",
    "             [3,4]])\n",
    "\n",
    "transpose_mat = np.transpose(A)\n",
    "print('A의 전치 행렬:\\n:', transpose_mat)"
   ]
  }
 ],
 "metadata": {
  "kernelspec": {
   "display_name": "Python 3 (ipykernel)",
   "language": "python",
   "name": "python3"
  },
  "language_info": {
   "codemirror_mode": {
    "name": "ipython",
    "version": 3
   },
   "file_extension": ".py",
   "mimetype": "text/x-python",
   "name": "python",
   "nbconvert_exporter": "python",
   "pygments_lexer": "ipython3",
   "version": "3.9.12"
  }
 },
 "nbformat": 4,
 "nbformat_minor": 5
}
