{
  "nbformat": 4,
  "nbformat_minor": 0,
  "metadata": {
    "colab": {
      "provenance": [],
      "authorship_tag": "ABX9TyOkuQK/Ze65/mDnoiIImz/U",
      "include_colab_link": true
    },
    "kernelspec": {
      "name": "python3",
      "display_name": "Python 3"
    },
    "language_info": {
      "name": "python"
    }
  },
  "cells": [
    {
      "cell_type": "markdown",
      "metadata": {
        "id": "view-in-github",
        "colab_type": "text"
      },
      "source": [
        "<a href=\"https://colab.research.google.com/github/JiSu0708/ESAA-YB/blob/main/0403_%EA%B3%BC%EC%A0%9C(ESAA).ipynb\" target=\"_parent\"><img src=\"https://colab.research.google.com/assets/colab-badge.svg\" alt=\"Open In Colab\"/></a>"
      ]
    },
    {
      "cell_type": "markdown",
      "source": [
        "**두잇 데이터 분석을 위한 판다스 입문** 241-242p, 256-263p\n",
        "# 시계열 데이터  "
      ],
      "metadata": {
        "id": "ovIE6rfrN6s0"
      }
    },
    {
      "cell_type": "markdown",
      "source": [
        "## datetime 오브젝트  \n",
        "날짜/시간을 처리하는 기능을 제공하는 파이썬 라이브러리\n",
        "\n",
        "오브젝트  \n",
        "- date: 날짜 처리\n",
        "- time: 시간 처리\n",
        "- datetime: 날짜와 시간 모두 처리"
      ],
      "metadata": {
        "id": "PuipUhrKOOly"
      }
    },
    {
      "cell_type": "code",
      "execution_count": 1,
      "metadata": {
        "id": "KRG_1fFUN0yw"
      },
      "outputs": [],
      "source": [
        "from datetime import datetime"
      ]
    },
    {
      "cell_type": "code",
      "source": [
        "# now, today - 현재 시간 출력\n",
        "now1 = datetime.now()\n",
        "print(now1)\n",
        "\n",
        "now2 = datetime.today()\n",
        "print(now2)"
      ],
      "metadata": {
        "colab": {
          "base_uri": "https://localhost:8080/"
        },
        "id": "AXPVsSlDQkKN",
        "outputId": "1e57259d-efad-4539-9e9e-d7279dce120e"
      },
      "execution_count": 5,
      "outputs": [
        {
          "output_type": "stream",
          "name": "stdout",
          "text": [
            "2023-04-04 12:34:43.313437\n",
            "2023-04-04 12:34:43.313708\n"
          ]
        }
      ]
    },
    {
      "cell_type": "code",
      "source": [
        "# 시간을 직접 입력하여 인자로 전달\n",
        "t1 = datetime.now() #now 메서드는 밀리초 단위까지 구함\n",
        "t2 = datetime(1970, 1, 1)\n",
        "t3 = datetime(1970, 12, 12, 13, 24, 24)\n",
        "\n",
        "print(t1)\n",
        "print(t2)\n",
        "print(t3)"
      ],
      "metadata": {
        "colab": {
          "base_uri": "https://localhost:8080/"
        },
        "id": "hLRYsyafQvt_",
        "outputId": "c6390734-d90a-484a-a5b3-df5262446eed"
      },
      "execution_count": 8,
      "outputs": [
        {
          "output_type": "stream",
          "name": "stdout",
          "text": [
            "2023-04-04 12:36:26.831103\n",
            "1970-01-01 00:00:00\n",
            "1970-12-12 13:24:24\n"
          ]
        }
      ]
    },
    {
      "cell_type": "code",
      "source": [
        "# datetime 오브젝트는 시간 계산을 할 수 있다\n",
        "diff1 = t1 - t2\n",
        "\n",
        "print(diff1)\n",
        "print(type(diff1))\n",
        "\n",
        "\n",
        "diff2 = t2 - t1\n",
        "\n",
        "print(diff2)\n",
        "print(type(diff2))"
      ],
      "metadata": {
        "colab": {
          "base_uri": "https://localhost:8080/"
        },
        "id": "HB0hcjRQRBn2",
        "outputId": "88c08da7-c249-4111-b3ad-cdbc94e646a9"
      },
      "execution_count": 12,
      "outputs": [
        {
          "output_type": "stream",
          "name": "stdout",
          "text": [
            "19451 days, 12:36:26.831103\n",
            "<class 'datetime.timedelta'>\n",
            "-19452 days, 11:23:33.168897\n",
            "<class 'datetime.timedelta'>\n"
          ]
        }
      ]
    },
    {
      "cell_type": "markdown",
      "source": [
        "### 테슬라 주식 데이터로 시간 계산하기"
      ],
      "metadata": {
        "id": "r-ydNqiTRsHe"
      }
    },
    {
      "cell_type": "code",
      "source": [
        "pip install pandas-datareader"
      ],
      "metadata": {
        "colab": {
          "base_uri": "https://localhost:8080/"
        },
        "id": "8GNCtFjeRWWW",
        "outputId": "caafea8a-5476-4368-e809-1595d99c39e1"
      },
      "execution_count": 13,
      "outputs": [
        {
          "output_type": "stream",
          "name": "stdout",
          "text": [
            "Looking in indexes: https://pypi.org/simple, https://us-python.pkg.dev/colab-wheels/public/simple/\n",
            "Requirement already satisfied: pandas-datareader in /usr/local/lib/python3.9/dist-packages (0.10.0)\n",
            "Requirement already satisfied: lxml in /usr/local/lib/python3.9/dist-packages (from pandas-datareader) (4.9.2)\n",
            "Requirement already satisfied: pandas>=0.23 in /usr/local/lib/python3.9/dist-packages (from pandas-datareader) (1.4.4)\n",
            "Requirement already satisfied: requests>=2.19.0 in /usr/local/lib/python3.9/dist-packages (from pandas-datareader) (2.27.1)\n",
            "Requirement already satisfied: pytz>=2020.1 in /usr/local/lib/python3.9/dist-packages (from pandas>=0.23->pandas-datareader) (2022.7.1)\n",
            "Requirement already satisfied: numpy>=1.18.5 in /usr/local/lib/python3.9/dist-packages (from pandas>=0.23->pandas-datareader) (1.22.4)\n",
            "Requirement already satisfied: python-dateutil>=2.8.1 in /usr/local/lib/python3.9/dist-packages (from pandas>=0.23->pandas-datareader) (2.8.2)\n",
            "Requirement already satisfied: charset-normalizer~=2.0.0 in /usr/local/lib/python3.9/dist-packages (from requests>=2.19.0->pandas-datareader) (2.0.12)\n",
            "Requirement already satisfied: urllib3<1.27,>=1.21.1 in /usr/local/lib/python3.9/dist-packages (from requests>=2.19.0->pandas-datareader) (1.26.15)\n",
            "Requirement already satisfied: idna<4,>=2.5 in /usr/local/lib/python3.9/dist-packages (from requests>=2.19.0->pandas-datareader) (3.4)\n",
            "Requirement already satisfied: certifi>=2017.4.17 in /usr/local/lib/python3.9/dist-packages (from requests>=2.19.0->pandas-datareader) (2022.12.7)\n",
            "Requirement already satisfied: six>=1.5 in /usr/local/lib/python3.9/dist-packages (from python-dateutil>=2.8.1->pandas>=0.23->pandas-datareader) (1.16.0)\n"
          ]
        }
      ]
    },
    {
      "cell_type": "markdown",
      "source": [
        "1. get_data_quanal 메서드에 TSLA라는 문자열 전달 -> 테슬라 주식 데이터 내려받기"
      ],
      "metadata": {
        "id": "qrjGGV3KRzOm"
      }
    },
    {
      "cell_type": "code",
      "source": [
        "import pandas as pd\n",
        "\n",
        "pd.core.common.is_list_like = pd.api.types.is_list_like\n",
        "import pandas_datareader as pdr\n",
        "\n",
        "# tesla는데이터프레임이 저장됩니다.\n",
        "## tesla = pdr.get_data_quandl('TSLA', api_key = '받은 key')\n",
        "### 받은 key: https://www.quandl.com 에 가입하여 접속 api_key를 생성하여 받은 key\n",
        "\n",
        "# tesla에 저장된 데이터프레임을 파일로 저장\n",
        "##tesla.to_csv('c:\\data\\tesla_stock_quandl.csv')\n",
        "\n",
        "tesla = pd.read_csv('tesla_stock_quandl.csv')"
      ],
      "metadata": {
        "id": "txMJ2qFQdrz-"
      },
      "execution_count": 23,
      "outputs": []
    },
    {
      "cell_type": "markdown",
      "source": [
        "2. Date열: 문자열 -> datetime 오브젝트로 자료형 변환 -> 시간 계산"
      ],
      "metadata": {
        "id": "YaEoCzu7hbk9"
      }
    },
    {
      "cell_type": "code",
      "source": [
        "print(tesla.head())"
      ],
      "metadata": {
        "colab": {
          "base_uri": "https://localhost:8080/"
        },
        "id": "Ll826N7whV_n",
        "outputId": "c0a792f4-524f-4071-8f96-1cee020d91c0"
      },
      "execution_count": 25,
      "outputs": [
        {
          "output_type": "stream",
          "name": "stdout",
          "text": [
            "         Date    Open    High     Low   Close    Volume  ExDividend  \\\n",
            "0  2018-03-27  304.00  304.27  277.18  279.18  13696168           0   \n",
            "1  2018-03-26  307.34  307.59  291.36  304.18   8324639           0   \n",
            "2  2018-03-23  311.25  311.61  300.45  301.54   6600538           0   \n",
            "3  2018-03-22  313.89  318.82  308.18  309.10   4914307           0   \n",
            "4  2018-03-21  310.25  322.44  310.19  316.53   5927881           0   \n",
            "\n",
            "   SplitRatio  AdjOpen  AdjHigh  AdjLow  AdjClose  AdjVolume  \n",
            "0           1   304.00   304.27  277.18    279.18   13696168  \n",
            "1           1   307.34   307.59  291.36    304.18    8324639  \n",
            "2           1   311.25   311.61  300.45    301.54    6600538  \n",
            "3           1   313.89   318.82  308.18    309.10    4914307  \n",
            "4           1   310.25   322.44  310.19    316.53    5927881  \n"
          ]
        }
      ]
    },
    {
      "cell_type": "markdown",
      "source": [
        "3. read_csv 메서드로 데이터 집합 불러올 때 **parse_dates** 인자에 **Date 열** 전달 -> Date 열을 Datetime 형으로 변환"
      ],
      "metadata": {
        "id": "glhOJDOajUVs"
      }
    },
    {
      "cell_type": "code",
      "source": [
        "tesla = pd.read_csv('tesla_stock_quandl.csv', parse_dates=[0])\n",
        "print(tesla.info())"
      ],
      "metadata": {
        "colab": {
          "base_uri": "https://localhost:8080/"
        },
        "id": "-11elh23jNzC",
        "outputId": "282983aa-6eae-4f81-f380-19bd677aa969"
      },
      "execution_count": 27,
      "outputs": [
        {
          "output_type": "stream",
          "name": "stdout",
          "text": [
            "<class 'pandas.core.frame.DataFrame'>\n",
            "RangeIndex: 1949 entries, 0 to 1948\n",
            "Data columns (total 13 columns):\n",
            " #   Column      Non-Null Count  Dtype         \n",
            "---  ------      --------------  -----         \n",
            " 0   Date        1949 non-null   datetime64[ns]\n",
            " 1   Open        1949 non-null   float64       \n",
            " 2   High        1949 non-null   float64       \n",
            " 3   Low         1949 non-null   float64       \n",
            " 4   Close       1949 non-null   float64       \n",
            " 5   Volume      1949 non-null   int64         \n",
            " 6   ExDividend  1949 non-null   int64         \n",
            " 7   SplitRatio  1949 non-null   int64         \n",
            " 8   AdjOpen     1949 non-null   float64       \n",
            " 9   AdjHigh     1949 non-null   float64       \n",
            " 10  AdjLow      1949 non-null   float64       \n",
            " 11  AdjClose    1949 non-null   float64       \n",
            " 12  AdjVolume   1949 non-null   int64         \n",
            "dtypes: datetime64[ns](1), float64(8), int64(4)\n",
            "memory usage: 198.1 KB\n",
            "None\n"
          ]
        }
      ]
    },
    {
      "cell_type": "markdown",
      "source": [
        "4. 불린 추출(이제 dt 접근자 사용 가능)"
      ],
      "metadata": {
        "id": "2Id6g0ybmNMy"
      }
    },
    {
      "cell_type": "code",
      "source": [
        "print(tesla.loc[(tesla.Date.dt.year == 2010) & (tesla.Date.dt.month == 6)])"
      ],
      "metadata": {
        "colab": {
          "base_uri": "https://localhost:8080/"
        },
        "id": "cJnfFJnmmkeA",
        "outputId": "1c86ae27-a940-4548-d6e0-bd41e49a0e20"
      },
      "execution_count": 29,
      "outputs": [
        {
          "output_type": "stream",
          "name": "stdout",
          "text": [
            "           Date   Open     High    Low  Close    Volume  ExDividend  \\\n",
            "1947 2010-06-30  25.79  30.4192  23.30  23.83  17187100           0   \n",
            "1948 2010-06-29  19.00  25.0000  17.54  23.89  18766300           0   \n",
            "\n",
            "      SplitRatio  AdjOpen  AdjHigh  AdjLow  AdjClose  AdjVolume  \n",
            "1947           1    25.79  30.4192   23.30     23.83   17187100  \n",
            "1948           1    19.00  25.0000   17.54     23.89   18766300  \n"
          ]
        }
      ]
    },
    {
      "cell_type": "markdown",
      "source": [
        "## datetime 오브젝트와 인덱스 - DatetimeIndex  \n",
        "datetime 오브젝트를 데이터프레임의 인덱스로 설정 -> 원하는 시간의 데이터 바로 추출 가능\n",
        "### datetime 오브젝트를 인덱스로 설정해 데이터 추출하기"
      ],
      "metadata": {
        "id": "fEC0_Jxem_8Z"
      }
    },
    {
      "cell_type": "markdown",
      "source": [
        "1. Date 열 tesla 데이터프레임의 인덱스로 지정"
      ],
      "metadata": {
        "id": "LyMRLw_YnHb-"
      }
    },
    {
      "cell_type": "code",
      "source": [
        "tesla.index =tesla['Date']\n",
        "print(tesla.index)"
      ],
      "metadata": {
        "colab": {
          "base_uri": "https://localhost:8080/"
        },
        "id": "2kAx1kjyn14i",
        "outputId": "b21d36e1-572b-451d-ad01-4030fb52d868"
      },
      "execution_count": 30,
      "outputs": [
        {
          "output_type": "stream",
          "name": "stdout",
          "text": [
            "DatetimeIndex(['2018-03-27', '2018-03-26', '2018-03-23', '2018-03-22',\n",
            "               '2018-03-21', '2018-03-20', '2018-03-19', '2018-03-16',\n",
            "               '2018-03-15', '2018-03-14',\n",
            "               ...\n",
            "               '2010-07-13', '2010-07-12', '2010-07-09', '2010-07-08',\n",
            "               '2010-07-07', '2010-07-06', '2010-07-02', '2010-07-01',\n",
            "               '2010-06-30', '2010-06-29'],\n",
            "              dtype='datetime64[ns]', name='Date', length=1949, freq=None)\n"
          ]
        }
      ]
    },
    {
      "cell_type": "markdown",
      "source": [
        "2. datetime 오브젝트를 인덱스로 지정하면 원하는 시간의 데이터를 바로 추출할 수 있따."
      ],
      "metadata": {
        "id": "zrbXOLj_n5KM"
      }
    },
    {
      "cell_type": "code",
      "source": [
        "print(tesla['2015'].iloc[:5, :5])"
      ],
      "metadata": {
        "colab": {
          "base_uri": "https://localhost:8080/"
        },
        "id": "fB5sHZLzn_4I",
        "outputId": "b9797b78-6ff8-44c9-b65c-ff07ec9dd23d"
      },
      "execution_count": 31,
      "outputs": [
        {
          "output_type": "stream",
          "name": "stdout",
          "text": [
            "                 Date    Open     High       Low   Close\n",
            "Date                                                    \n",
            "2015-12-31 2015-12-31  238.51  243.450  238.3700  240.01\n",
            "2015-12-30 2015-12-30  236.60  243.634  235.6707  238.09\n",
            "2015-12-29 2015-12-29  230.06  237.720  229.5470  237.19\n",
            "2015-12-28 2015-12-28  231.49  231.980  225.5400  228.95\n",
            "2015-12-24 2015-12-24  230.56  231.880  228.2800  230.57\n"
          ]
        },
        {
          "output_type": "stream",
          "name": "stderr",
          "text": [
            "<ipython-input-31-846783a4896c>:1: FutureWarning: Indexing a DataFrame with a datetimelike index using a single string to slice the rows, like `frame[string]`, is deprecated and will be removed in a future version. Use `frame.loc[string]` instead.\n",
            "  print(tesla['2015'].iloc[:5, :5])\n"
          ]
        }
      ]
    },
    {
      "cell_type": "markdown",
      "source": [
        "3. 2010년 6월 데이터 추출"
      ],
      "metadata": {
        "id": "3WOFD2RtoDb0"
      }
    },
    {
      "cell_type": "code",
      "source": [
        "print(tesla['2010-06'].iloc[:, :5])"
      ],
      "metadata": {
        "colab": {
          "base_uri": "https://localhost:8080/"
        },
        "id": "i1wa4-XLoLcj",
        "outputId": "65d2ce93-d1f7-4ff9-cda8-079bdfcb713b"
      },
      "execution_count": 32,
      "outputs": [
        {
          "output_type": "stream",
          "name": "stdout",
          "text": [
            "                 Date   Open     High    Low  Close\n",
            "Date                                               \n",
            "2010-06-30 2010-06-30  25.79  30.4192  23.30  23.83\n",
            "2010-06-29 2010-06-29  19.00  25.0000  17.54  23.89\n"
          ]
        },
        {
          "output_type": "stream",
          "name": "stderr",
          "text": [
            "<ipython-input-32-01bd23607ac5>:1: FutureWarning: Indexing a DataFrame with a datetimelike index using a single string to slice the rows, like `frame[string]`, is deprecated and will be removed in a future version. Use `frame.loc[string]` instead.\n",
            "  print(tesla['2010-06'].iloc[:, :5])\n"
          ]
        }
      ]
    },
    {
      "cell_type": "markdown",
      "source": [
        "## 시간 간격과 인덱스 - TimedeltaIndex  \n",
        "시간 간격을 인덱스로 지정하여 데이터 추출 (ex. 최초 5일간 수집된 데이터만 보고 싶을 때)  \n",
        "\n",
        "### 시간 간격을 인덱스로 지정해 데이터 추출하기\n",
        "1. (Date 열) - (Date 열의 최솟값) = (데이터를 수집한 후 흐른 시간: 시간 간격(ref_date))"
      ],
      "metadata": {
        "id": "jT_IRw-BoQfK"
      }
    },
    {
      "cell_type": "code",
      "source": [
        "tesla['ref_date'] = tesla['Date'] - tesla['Date'].min()\n",
        "print(tesla.head())"
      ],
      "metadata": {
        "colab": {
          "base_uri": "https://localhost:8080/"
        },
        "id": "VpNOALxzoV93",
        "outputId": "33a12c34-4d5b-4600-fcd0-5241a0244683"
      },
      "execution_count": 35,
      "outputs": [
        {
          "output_type": "stream",
          "name": "stdout",
          "text": [
            "                 Date    Open    High     Low   Close    Volume  ExDividend  \\\n",
            "Date                                                                          \n",
            "2018-03-27 2018-03-27  304.00  304.27  277.18  279.18  13696168           0   \n",
            "2018-03-26 2018-03-26  307.34  307.59  291.36  304.18   8324639           0   \n",
            "2018-03-23 2018-03-23  311.25  311.61  300.45  301.54   6600538           0   \n",
            "2018-03-22 2018-03-22  313.89  318.82  308.18  309.10   4914307           0   \n",
            "2018-03-21 2018-03-21  310.25  322.44  310.19  316.53   5927881           0   \n",
            "\n",
            "            SplitRatio  AdjOpen  AdjHigh  AdjLow  AdjClose  AdjVolume  \\\n",
            "Date                                                                    \n",
            "2018-03-27           1   304.00   304.27  277.18    279.18   13696168   \n",
            "2018-03-26           1   307.34   307.59  291.36    304.18    8324639   \n",
            "2018-03-23           1   311.25   311.61  300.45    301.54    6600538   \n",
            "2018-03-22           1   313.89   318.82  308.18    309.10    4914307   \n",
            "2018-03-21           1   310.25   322.44  310.19    316.53    5927881   \n",
            "\n",
            "            ref_date  \n",
            "Date                  \n",
            "2018-03-27 2828 days  \n",
            "2018-03-26 2827 days  \n",
            "2018-03-23 2824 days  \n",
            "2018-03-22 2823 days  \n",
            "2018-03-21 2822 days  \n"
          ]
        }
      ]
    },
    {
      "cell_type": "markdown",
      "source": [
        "2. 시간 간격(ref_date)을 인덱스로 지정 -> 시간 간격을 이용해 데이터 추출"
      ],
      "metadata": {
        "id": "Oy3fPjRko1jM"
      }
    },
    {
      "cell_type": "code",
      "source": [
        "tesla.index = tesla['ref_date']\n",
        "print(tesla.iloc[:5, :5])"
      ],
      "metadata": {
        "colab": {
          "base_uri": "https://localhost:8080/"
        },
        "id": "MX6AjZwEpZ5P",
        "outputId": "53d35093-5b48-447c-809b-43c01bd9e6a2"
      },
      "execution_count": 36,
      "outputs": [
        {
          "output_type": "stream",
          "name": "stdout",
          "text": [
            "                Date    Open    High     Low   Close\n",
            "ref_date                                            \n",
            "2828 days 2018-03-27  304.00  304.27  277.18  279.18\n",
            "2827 days 2018-03-26  307.34  307.59  291.36  304.18\n",
            "2824 days 2018-03-23  311.25  311.61  300.45  301.54\n",
            "2823 days 2018-03-22  313.89  318.82  308.18  309.10\n",
            "2822 days 2018-03-21  310.25  322.44  310.19  316.53\n"
          ]
        }
      ]
    },
    {
      "cell_type": "markdown",
      "source": [
        "3. 데이터를 수집한 이후 최초 5일의 데이터 추출"
      ],
      "metadata": {
        "id": "4QNLn3ItpilK"
      }
    },
    {
      "cell_type": "code",
      "source": [
        "print(tesla['5 days':].iloc[:5, :5])\n",
        "# 4 days는 데이터가 처음부터 없어서 출력되지 않음."
      ],
      "metadata": {
        "colab": {
          "base_uri": "https://localhost:8080/"
        },
        "id": "jzDwjyEnpmb_",
        "outputId": "1362f706-2f41-4bce-a506-85f4fc9a608e"
      },
      "execution_count": 39,
      "outputs": [
        {
          "output_type": "stream",
          "name": "stdout",
          "text": [
            "               Date   Open     High    Low  Close\n",
            "ref_date                                         \n",
            "3 days   2010-07-02  23.00  23.1000  18.71  19.20\n",
            "2 days   2010-07-01  25.00  25.9200  20.27  21.96\n",
            "1 days   2010-06-30  25.79  30.4192  23.30  23.83\n",
            "0 days   2010-06-29  19.00  25.0000  17.54  23.89\n"
          ]
        }
      ]
    },
    {
      "cell_type": "markdown",
      "source": [
        "## 시간 범위와 인덱스  \n",
        "특정일에 누락된 데이터도 포함시켜 데이터를 살펴볼 때 -> 임의로 시간 범위를 생성하여 인덱스로 지정\n",
        "\n",
        "### 시간 범위 생성해 인덱스로 지정  \n",
        "1. 누락된 데이터가 있는 에볼라 데이터 집합 사용.  \n",
        "앞쪽을 살펴보면 2015년 01월 01일 데이터 누락."
      ],
      "metadata": {
        "id": "8f2bnah0p6mU"
      }
    },
    {
      "cell_type": "code",
      "source": [
        "ebola = pd.read_csv('/country_timeseries.csv', parse_dates=[0])\n",
        "print(ebola.iloc[:5, :5])"
      ],
      "metadata": {
        "colab": {
          "base_uri": "https://localhost:8080/"
        },
        "id": "EvYRqXKWpqUg",
        "outputId": "f4a90ffa-7bfc-4e8e-d78e-11e2d87058eb"
      },
      "execution_count": 48,
      "outputs": [
        {
          "output_type": "stream",
          "name": "stdout",
          "text": [
            "        Date  Day  Cases_Guinea  Cases_Liberia  Cases_SierraLeone\n",
            "0 2015-01-05  289        2776.0            NaN            10030.0\n",
            "1 2015-01-04  288        2775.0            NaN             9780.0\n",
            "2 2015-01-03  287        2769.0         8166.0             9722.0\n",
            "3 2015-01-02  286           NaN         8157.0                NaN\n",
            "4 2014-12-31  284        2730.0         8115.0             9633.0\n"
          ]
        }
      ]
    },
    {
      "cell_type": "markdown",
      "source": [
        "2, 뒤쪽의 데이터도 마찬가지로 2014년 03월 23일의 데이터 누락."
      ],
      "metadata": {
        "id": "CNj-5G4YrcQW"
      }
    },
    {
      "cell_type": "code",
      "source": [
        "print(ebola.iloc[-5:, :5])"
      ],
      "metadata": {
        "colab": {
          "base_uri": "https://localhost:8080/"
        },
        "id": "nc8kplvisUGP",
        "outputId": "250282c4-7204-4311-add6-9fd011d3e648"
      },
      "execution_count": 50,
      "outputs": [
        {
          "output_type": "stream",
          "name": "stdout",
          "text": [
            "          Date  Day  Cases_Guinea  Cases_Liberia  Cases_SierraLeone\n",
            "117 2014-03-27    5         103.0            8.0                6.0\n",
            "118 2014-03-26    4          86.0            NaN                NaN\n",
            "119 2014-03-25    3          86.0            NaN                NaN\n",
            "120 2014-03-24    2          86.0            NaN                NaN\n",
            "121 2014-03-22    0          49.0            NaN                NaN\n"
          ]
        }
      ]
    },
    {
      "cell_type": "markdown",
      "source": [
        "3. date_range 메서드 사용 -> 시간 인덱스(DatetimeIndex) 생성\n"
      ],
      "metadata": {
        "id": "tGW9NZyhsdx7"
      }
    },
    {
      "cell_type": "code",
      "source": [
        "head_range = pd.date_range(start = '2014-12-31', end = '2015-01-05')\n",
        "print(head_range)"
      ],
      "metadata": {
        "colab": {
          "base_uri": "https://localhost:8080/"
        },
        "id": "l665cHx_ssHC",
        "outputId": "f58baf83-3c6e-49d3-e962-87fe0cff11e6"
      },
      "execution_count": 51,
      "outputs": [
        {
          "output_type": "stream",
          "name": "stdout",
          "text": [
            "DatetimeIndex(['2014-12-31', '2015-01-01', '2015-01-02', '2015-01-03',\n",
            "               '2015-01-04', '2015-01-05'],\n",
            "              dtype='datetime64[ns]', freq='D')\n"
          ]
        }
      ]
    },
    {
      "cell_type": "markdown",
      "source": [
        "4. **반드시 Date 열을 인덱스로 지정한 다음 생성한 시간 범위를 인덱스로 지정해야 함**\n",
        "- 원본 데이터 손상 방지 위해 <- ebola 데이터프레임의 앞쪽 5개의 데이터를 추출하여 새로운 데이터프레임을 만든 것.  \n",
        "- Date 열을 인덱스로 먼저 지정하지 않으면 오류 발생.  "
      ],
      "metadata": {
        "id": "PT7k725Is13N"
      }
    },
    {
      "cell_type": "code",
      "source": [
        "ebola_5 = ebola.head()\n",
        "ebola_5.index =ebola_5['Date']\n",
        "ebola_5.reindex(head_range)\n",
        "print(ebola_5.iloc[:5, :5])"
      ],
      "metadata": {
        "colab": {
          "base_uri": "https://localhost:8080/"
        },
        "id": "7XEM_RnstVZV",
        "outputId": "5c75a786-967f-43d0-a7cf-700888b59ff3"
      },
      "execution_count": 53,
      "outputs": [
        {
          "output_type": "stream",
          "name": "stdout",
          "text": [
            "                 Date  Day  Cases_Guinea  Cases_Liberia  Cases_SierraLeone\n",
            "Date                                                                      \n",
            "2015-01-05 2015-01-05  289        2776.0            NaN            10030.0\n",
            "2015-01-04 2015-01-04  288        2775.0            NaN             9780.0\n",
            "2015-01-03 2015-01-03  287        2769.0         8166.0             9722.0\n",
            "2015-01-02 2015-01-02  286           NaN         8157.0                NaN\n",
            "2014-12-31 2014-12-31  284        2730.0         8115.0             9633.0\n"
          ]
        }
      ]
    },
    {
      "cell_type": "markdown",
      "source": [
        "#### 시간 범위의 주기 설정하기  \n",
        "freq 속성값 지정 -> 시간 간격 조절 -> DatetimeIndex 만듦  \n",
        "\n",
        "\\* freq 속성값으로 사용할 수 있는 시간 주기  \n",
        "- B: 평일만 포함\n",
        "- C: 사용자가 정의한 평일만 포함\n",
        "- D: 달력 일자 단위\n",
        "- W: 주간 단위\n",
        "- M: 월 마지막 날만 포함\n",
        "- SM: 15일과 월 마지막 날만 포함\n",
        "- MS: 월 시작일만 포함\n",
        "- SMS: 월 시작일과 15일만 포함\n",
        "- Q: 3, 6, 9, 12월 분기 마지막 날만 포함\n",
        "- QS: 3, 6, 9, 12월 분기 시작일만 포함\n",
        "- A: 년의 마지막 날만 포함\n",
        "- AS: 년의 시작일만 포함\n",
        "- H: 시간 단위로 포함\n",
        "- T: 분 단위 포함\n",
        "- S: 초 단위 포함\n",
        ".\n",
        ".\n",
        "."
      ],
      "metadata": {
        "id": "cGVQzVdxtYhU"
      }
    }
  ]
}