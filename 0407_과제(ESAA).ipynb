{
  "nbformat": 4,
  "nbformat_minor": 0,
  "metadata": {
    "colab": {
      "provenance": [],
      "authorship_tag": "ABX9TyN5xfKSZZu7Iik5j6Hj5Atx",
      "include_colab_link": true
    },
    "kernelspec": {
      "name": "python3",
      "display_name": "Python 3"
    },
    "language_info": {
      "name": "python"
    }
  },
  "cells": [
    {
      "cell_type": "markdown",
      "metadata": {
        "id": "view-in-github",
        "colab_type": "text"
      },
      "source": [
        "<a href=\"https://colab.research.google.com/github/JiSu0708/ESAA-YB/blob/main/0407_%EA%B3%BC%EC%A0%9C(ESAA).ipynb\" target=\"_parent\"><img src=\"https://colab.research.google.com/assets/colab-badge.svg\" alt=\"Open In Colab\"/></a>"
      ]
    },
    {
      "cell_type": "markdown",
      "source": [
        "**두잇 데이터 분석을 위한 판다스 입문** 243-255p, 264-271p"
      ],
      "metadata": {
        "id": "yRdiPeeWJNTT"
      }
    },
    {
      "cell_type": "markdown",
      "source": [
        "## datetime 오브젝트로 변환하기 - to_datetime 메서드  \n",
        "- **to_datetime**: 문자열 -> datetime  \n",
        "\n",
        "### 문자열을 datetime 오브젝트로 변환하기"
      ],
      "metadata": {
        "id": "AIzAIfq0J-HZ"
      }
    },
    {
      "cell_type": "code",
      "execution_count": 106,
      "metadata": {
        "id": "4ceVE2zowQgs"
      },
      "outputs": [],
      "source": [
        "import pandas as pd\n",
        "import os\n",
        "\n",
        "ebola = pd.read_csv('country_timeseries.csv')"
      ]
    },
    {
      "cell_type": "code",
      "source": [
        "# Date 열이 문자열로 지정되었음을 알 수 있음.\n",
        "print(ebola.info())"
      ],
      "metadata": {
        "colab": {
          "base_uri": "https://localhost:8080/"
        },
        "id": "gd1oiBpgMqH-",
        "outputId": "89bfd19d-3247-406f-bf56-b0d18c61a7f1"
      },
      "execution_count": 107,
      "outputs": [
        {
          "output_type": "stream",
          "name": "stdout",
          "text": [
            "<class 'pandas.core.frame.DataFrame'>\n",
            "RangeIndex: 122 entries, 0 to 121\n",
            "Data columns (total 18 columns):\n",
            " #   Column               Non-Null Count  Dtype  \n",
            "---  ------               --------------  -----  \n",
            " 0   Date                 122 non-null    object \n",
            " 1   Day                  122 non-null    int64  \n",
            " 2   Cases_Guinea         93 non-null     float64\n",
            " 3   Cases_Liberia        83 non-null     float64\n",
            " 4   Cases_SierraLeone    87 non-null     float64\n",
            " 5   Cases_Nigeria        38 non-null     float64\n",
            " 6   Cases_Senegal        25 non-null     float64\n",
            " 7   Cases_UnitedStates   18 non-null     float64\n",
            " 8   Cases_Spain          16 non-null     float64\n",
            " 9   Cases_Mali           12 non-null     float64\n",
            " 10  Deaths_Guinea        92 non-null     float64\n",
            " 11  Deaths_Liberia       81 non-null     float64\n",
            " 12  Deaths_SierraLeone   87 non-null     float64\n",
            " 13  Deaths_Nigeria       38 non-null     float64\n",
            " 14  Deaths_Senegal       22 non-null     float64\n",
            " 15  Deaths_UnitedStates  18 non-null     float64\n",
            " 16  Deaths_Spain         16 non-null     float64\n",
            " 17  Deaths_Mali          12 non-null     float64\n",
            "dtypes: float64(16), int64(1), object(1)\n",
            "memory usage: 17.3+ KB\n",
            "None\n"
          ]
        }
      ]
    },
    {
      "cell_type": "code",
      "source": [
        "# to_datetime 이용해 Date 열의 자료형을 datetime 오브젝트로 변환 -> 새로운 열로 추가\n",
        "ebola['date_dt'] = pd.to_datetime(ebola['Date'])\n",
        "print(ebola.info())"
      ],
      "metadata": {
        "colab": {
          "base_uri": "https://localhost:8080/"
        },
        "id": "aMaaeEL3NLM2",
        "outputId": "d9432a3c-5eae-4610-b4a2-58d655f83263"
      },
      "execution_count": 108,
      "outputs": [
        {
          "output_type": "stream",
          "name": "stdout",
          "text": [
            "<class 'pandas.core.frame.DataFrame'>\n",
            "RangeIndex: 122 entries, 0 to 121\n",
            "Data columns (total 19 columns):\n",
            " #   Column               Non-Null Count  Dtype         \n",
            "---  ------               --------------  -----         \n",
            " 0   Date                 122 non-null    object        \n",
            " 1   Day                  122 non-null    int64         \n",
            " 2   Cases_Guinea         93 non-null     float64       \n",
            " 3   Cases_Liberia        83 non-null     float64       \n",
            " 4   Cases_SierraLeone    87 non-null     float64       \n",
            " 5   Cases_Nigeria        38 non-null     float64       \n",
            " 6   Cases_Senegal        25 non-null     float64       \n",
            " 7   Cases_UnitedStates   18 non-null     float64       \n",
            " 8   Cases_Spain          16 non-null     float64       \n",
            " 9   Cases_Mali           12 non-null     float64       \n",
            " 10  Deaths_Guinea        92 non-null     float64       \n",
            " 11  Deaths_Liberia       81 non-null     float64       \n",
            " 12  Deaths_SierraLeone   87 non-null     float64       \n",
            " 13  Deaths_Nigeria       38 non-null     float64       \n",
            " 14  Deaths_Senegal       22 non-null     float64       \n",
            " 15  Deaths_UnitedStates  18 non-null     float64       \n",
            " 16  Deaths_Spain         16 non-null     float64       \n",
            " 17  Deaths_Mali          12 non-null     float64       \n",
            " 18  date_dt              122 non-null    datetime64[ns]\n",
            "dtypes: datetime64[ns](1), float64(16), int64(1), object(1)\n",
            "memory usage: 18.2+ KB\n",
            "None\n"
          ]
        }
      ]
    },
    {
      "cell_type": "code",
      "source": [
        "# to_datetime 메서드 - 시간 형식 지정자(%d, %m, %y)와 기호(/, -) 조합 -> format 인자에 전달\n",
        "test_df1 = pd.DataFrame({'order_day':['01/01/15', '02/01/15', '03/01/15']})\n",
        "\n",
        "test_df1['date_dt1'] = pd.to_datetime(test_df1['order_day'], format='%d/%m/%y')\n",
        "test_df1['date_dt2'] = pd.to_datetime(test_df1['order_day'], format='%m/%d/%y')\n",
        "test_df1['date_dt3'] = pd.to_datetime(test_df1['order_day'], format='%y/%m/%d')\n",
        "\n",
        "print(test_df1)"
      ],
      "metadata": {
        "colab": {
          "base_uri": "https://localhost:8080/"
        },
        "id": "LXhS8sSLNnhe",
        "outputId": "7c24ebdb-f9f0-4ee5-fc57-9fd4e2d8b442"
      },
      "execution_count": 109,
      "outputs": [
        {
          "output_type": "stream",
          "name": "stdout",
          "text": [
            "  order_day   date_dt1   date_dt2   date_dt3\n",
            "0  01/01/15 2015-01-01 2015-01-01 2001-01-15\n",
            "1  02/01/15 2015-01-02 2015-02-01 2002-01-15\n",
            "2  03/01/15 2015-01-03 2015-03-01 2003-01-15\n"
          ]
        }
      ]
    },
    {
      "cell_type": "code",
      "source": [
        "test_df2 = pd.DataFrame({'order_day':['01-01-15', '02-01-15', '03-01-15']})\n",
        "test_df2['date_dt'] = pd.to_datetime(test_df2['order_day'], format='%d-%m-%y')\n",
        "\n",
        "print(test_df2)"
      ],
      "metadata": {
        "colab": {
          "base_uri": "https://localhost:8080/"
        },
        "id": "eqaD9XPQPC14",
        "outputId": "ef10ad79-6525-47ad-da65-30082669c25c"
      },
      "execution_count": 110,
      "outputs": [
        {
          "output_type": "stream",
          "name": "stdout",
          "text": [
            "  order_day    date_dt\n",
            "0  01-01-15 2015-01-01\n",
            "1  02-01-15 2015-01-02\n",
            "2  03-01-15 2015-01-03\n"
          ]
        }
      ]
    },
    {
      "cell_type": "markdown",
      "source": [
        "## 시간 형식 지정자  \n",
        "- %a: 요일\n",
        "- %A: 요일(긴 이름)\n",
        "- %w: 요일(숫자, 0부터 일요일)\n",
        "- %d: 날짜(2자리)\n",
        "- %b: 월\n",
        "- %B: 월(긴 이름)\n",
        "- %m: 월(숫자)\n",
        "- %y: 년(2자리)\n",
        "- %Y: 년(4자리)\n",
        "- %H: 시간(24시간)\n",
        "- %I: 시간(12시간)\n",
        "- %p: AM/PM\n",
        "- %M: 분(2자리)\n",
        "- %S: 초(2자리)\n",
        "- %f: 마이크로초\n",
        "- %z: UTC 차이(+HHMM/-HHMM 형태)\n",
        "- %Z: 기준 지역 이름\n",
        "- %j: 올해의 지난 일 수\n",
        "- %U: 올해의 지난 주 수\n",
        "- %c: 날짜와 시간\n",
        "- %x: 날짜\n",
        "- %X: 시간\n",
        "- %G: 년(ISO 8601 형식)\n",
        "- %u: 요일(ISO 8601 형식)\n",
        "- %V: 올해의 지난 주 수(ISO 8601 형식)\n"
      ],
      "metadata": {
        "id": "h16fumJ4QbU4"
      }
    },
    {
      "cell_type": "markdown",
      "source": [
        "### **strftime** 메서드 + 시간 형식 지정자   \n",
        "시계열 데이터 잘라내기"
      ],
      "metadata": {
        "id": "NrKPWa94RqbQ"
      }
    },
    {
      "cell_type": "code",
      "source": [
        "now = pd.datetime.now()\n",
        "print(now)\n",
        "\n",
        "nowDate = now.strftime('%Y-%m-%d')\n",
        "print(nowDate)\n",
        "\n",
        "nowTime = now.strftime('%H:%M:%S')\n",
        "print(nowTime)\n",
        "\n",
        "nowDatetime = now.strftime('%Y-%m-%d %H:%M:%S')\n",
        "print(nowDatetime)"
      ],
      "metadata": {
        "colab": {
          "base_uri": "https://localhost:8080/"
        },
        "id": "R_V3SfY6PjRx",
        "outputId": "3881a28c-9fe5-4634-d62c-ff33cdd0d571"
      },
      "execution_count": 111,
      "outputs": [
        {
          "output_type": "stream",
          "name": "stdout",
          "text": [
            "2023-04-07 12:08:38.803779\n",
            "2023-04-07\n",
            "12:08:38\n",
            "2023-04-07 12:08:38\n"
          ]
        },
        {
          "output_type": "stream",
          "name": "stderr",
          "text": [
            "<ipython-input-111-ac26e3c31d1f>:1: FutureWarning: The pandas.datetime class is deprecated and will be removed from pandas in a future version. Import from datetime module instead.\n",
            "  now = pd.datetime.now()\n"
          ]
        }
      ]
    },
    {
      "cell_type": "markdown",
      "source": [
        "## datetime 오브젝트로 변환하기 - read_csv 메서드  \n",
        "datetime 오브젝트로 변환하려는 열을 지정하여 데이터 집합 불러오기  \n",
        "\n",
        "### datetime 오브젝트로 변환하려는 열을 지정하여 데이터 집합 불러오기"
      ],
      "metadata": {
        "id": "lEA4k0K5STQp"
      }
    },
    {
      "cell_type": "code",
      "source": [
        "# read_csv의 parse_dates 인자에 datetime 오브젝트로 변환하고자 하는 열의 이름 전달하여 데이터 집합 불러오기\n",
        "ebola1 = pd.read_csv('country_timeseries.csv', parse_dates=['Date'])\n",
        "print(ebola1.info())"
      ],
      "metadata": {
        "colab": {
          "base_uri": "https://localhost:8080/"
        },
        "id": "2-A8rMXJS5jA",
        "outputId": "934d7fd0-bb52-4314-a62b-73468d457c1c"
      },
      "execution_count": 112,
      "outputs": [
        {
          "output_type": "stream",
          "name": "stdout",
          "text": [
            "<class 'pandas.core.frame.DataFrame'>\n",
            "RangeIndex: 122 entries, 0 to 121\n",
            "Data columns (total 18 columns):\n",
            " #   Column               Non-Null Count  Dtype         \n",
            "---  ------               --------------  -----         \n",
            " 0   Date                 122 non-null    datetime64[ns]\n",
            " 1   Day                  122 non-null    int64         \n",
            " 2   Cases_Guinea         93 non-null     float64       \n",
            " 3   Cases_Liberia        83 non-null     float64       \n",
            " 4   Cases_SierraLeone    87 non-null     float64       \n",
            " 5   Cases_Nigeria        38 non-null     float64       \n",
            " 6   Cases_Senegal        25 non-null     float64       \n",
            " 7   Cases_UnitedStates   18 non-null     float64       \n",
            " 8   Cases_Spain          16 non-null     float64       \n",
            " 9   Cases_Mali           12 non-null     float64       \n",
            " 10  Deaths_Guinea        92 non-null     float64       \n",
            " 11  Deaths_Liberia       81 non-null     float64       \n",
            " 12  Deaths_SierraLeone   87 non-null     float64       \n",
            " 13  Deaths_Nigeria       38 non-null     float64       \n",
            " 14  Deaths_Senegal       22 non-null     float64       \n",
            " 15  Deaths_UnitedStates  18 non-null     float64       \n",
            " 16  Deaths_Spain         16 non-null     float64       \n",
            " 17  Deaths_Mali          12 non-null     float64       \n",
            "dtypes: datetime64[ns](1), float64(16), int64(1)\n",
            "memory usage: 17.3 KB\n",
            "None\n"
          ]
        }
      ]
    },
    {
      "cell_type": "markdown",
      "source": [
        "## datetime 오브젝트에서 날짜 정보 추출하기  "
      ],
      "metadata": {
        "id": "DadRDaSvTQCN"
      }
    },
    {
      "cell_type": "code",
      "source": [
        "# 문자열로 저장된 날짜 -> 시리즈에 담아 -> datetime 오브젝트로 변환\n",
        "date_series = pd.Series(['2018-05-16', '2018-05-17', '2018-05-18'])\n",
        "d1 = pd.to_datetime(date_series)\n",
        "print(d1)"
      ],
      "metadata": {
        "colab": {
          "base_uri": "https://localhost:8080/"
        },
        "id": "kw9qwXrtTVjS",
        "outputId": "56aa7577-6c9e-4181-cdec-96e4208b87a6"
      },
      "execution_count": 113,
      "outputs": [
        {
          "output_type": "stream",
          "name": "stdout",
          "text": [
            "0   2018-05-16\n",
            "1   2018-05-17\n",
            "2   2018-05-18\n",
            "dtype: datetime64[ns]\n"
          ]
        }
      ]
    },
    {
      "cell_type": "code",
      "source": [
        "# datetime 오브젝트(d1)의 year, month, day 속성 이용 - 년, 월, 일 정보 바로 추출\n",
        "print(d1[0].year)\n",
        "print(d1[0].month)\n",
        "print(d1[0].day)"
      ],
      "metadata": {
        "colab": {
          "base_uri": "https://localhost:8080/"
        },
        "id": "EIpEI_TbTnt7",
        "outputId": "d8e3f2e4-d398-4b50-a5eb-541b25dafd34"
      },
      "execution_count": 114,
      "outputs": [
        {
          "output_type": "stream",
          "name": "stdout",
          "text": [
            "2018\n",
            "5\n",
            "16\n"
          ]
        }
      ]
    },
    {
      "cell_type": "markdown",
      "source": [
        "### dt 접근자로 시계열 데이터 정리하기  \n",
        "dt 접근자 사용 - datetime 속성/메서드 사용하여 시계열 데이터 처리  \n",
        "\n",
        "### dt 접근자로 시계열 데이터 정리하기"
      ],
      "metadata": {
        "id": "pOoIWZcaUKK1"
      }
    },
    {
      "cell_type": "code",
      "source": [
        "# Date 열을 datetime 오브젝트로 변환하여 새로운 열(date_dt)로 추가\n",
        "ebola = pd.read_csv('country_timeseries.csv')\n",
        "ebola['date_dt'] = pd.to_datetime(ebola['Date'])"
      ],
      "metadata": {
        "id": "VYf2UDURUV2N"
      },
      "execution_count": 115,
      "outputs": []
    },
    {
      "cell_type": "code",
      "source": [
        "# 인덱스가 3인 데이터의 년, 월, 일 데이터 추출(dt 접근자 사용X)\n",
        "print(ebola[['Date', 'date_dt']].head())\n",
        "\n",
        "print(ebola['date_dt'][3].year)\n",
        "print(ebola['date_dt'][3].month)\n",
        "print(ebola['date_dt'][3].day)"
      ],
      "metadata": {
        "colab": {
          "base_uri": "https://localhost:8080/"
        },
        "id": "NlJcNN9oUk42",
        "outputId": "b1f4ee03-edde-432f-92c9-dcbb751f4ace"
      },
      "execution_count": 116,
      "outputs": [
        {
          "output_type": "stream",
          "name": "stdout",
          "text": [
            "         Date    date_dt\n",
            "0    1/5/2015 2015-01-05\n",
            "1    1/4/2015 2015-01-04\n",
            "2    1/3/2015 2015-01-03\n",
            "3    1/2/2015 2015-01-02\n",
            "4  12/31/2014 2014-12-31\n",
            "2015\n",
            "1\n",
            "2\n"
          ]
        }
      ]
    },
    {
      "cell_type": "code",
      "source": [
        "# dt 접근자 -> date_dt 열에 한 번에 접근 -> year 속성을 이용해 연도값 추출 -> 새로운 열(year) 추가\n",
        "ebola['year'] = ebola['date_dt'].dt.year\n",
        "\n",
        "print(ebola[['Date', 'date_dt', 'year']].head())"
      ],
      "metadata": {
        "colab": {
          "base_uri": "https://localhost:8080/"
        },
        "id": "Crs59zQZUv_j",
        "outputId": "def123ed-50bd-4764-8af5-b5766cac209a"
      },
      "execution_count": 117,
      "outputs": [
        {
          "output_type": "stream",
          "name": "stdout",
          "text": [
            "         Date    date_dt  year\n",
            "0    1/5/2015 2015-01-05  2015\n",
            "1    1/4/2015 2015-01-04  2015\n",
            "2    1/3/2015 2015-01-03  2015\n",
            "3    1/2/2015 2015-01-02  2015\n",
            "4  12/31/2014 2014-12-31  2014\n"
          ]
        }
      ]
    },
    {
      "cell_type": "code",
      "source": [
        "# 월, 일 데이터 한 번에 추출 -> 새로운 열(month, day) 추가\n",
        "ebola['month'], ebola['day'] = (ebola['date_dt'].dt.month, ebola['date_dt'].dt.day)\n",
        "\n",
        "print(ebola[['Date', 'date_dt', 'year','month', 'day']].head())"
      ],
      "metadata": {
        "colab": {
          "base_uri": "https://localhost:8080/"
        },
        "id": "MD0V_CxkXhu2",
        "outputId": "433e37e2-5dda-4882-927b-b26e7062b49d"
      },
      "execution_count": 118,
      "outputs": [
        {
          "output_type": "stream",
          "name": "stdout",
          "text": [
            "         Date    date_dt  year  month  day\n",
            "0    1/5/2015 2015-01-05  2015      1    5\n",
            "1    1/4/2015 2015-01-04  2015      1    4\n",
            "2    1/3/2015 2015-01-03  2015      1    3\n",
            "3    1/2/2015 2015-01-02  2015      1    2\n",
            "4  12/31/2014 2014-12-31  2014     12   31\n"
          ]
        }
      ]
    },
    {
      "cell_type": "code",
      "source": [
        "# date_dt 열- 오브젝트, 나머지- 정수형\n",
        "print(ebola.info())"
      ],
      "metadata": {
        "colab": {
          "base_uri": "https://localhost:8080/"
        },
        "id": "xWijmsiNYD_s",
        "outputId": "384b126e-672a-465e-cd5e-93431090d25e"
      },
      "execution_count": 119,
      "outputs": [
        {
          "output_type": "stream",
          "name": "stdout",
          "text": [
            "<class 'pandas.core.frame.DataFrame'>\n",
            "RangeIndex: 122 entries, 0 to 121\n",
            "Data columns (total 22 columns):\n",
            " #   Column               Non-Null Count  Dtype         \n",
            "---  ------               --------------  -----         \n",
            " 0   Date                 122 non-null    object        \n",
            " 1   Day                  122 non-null    int64         \n",
            " 2   Cases_Guinea         93 non-null     float64       \n",
            " 3   Cases_Liberia        83 non-null     float64       \n",
            " 4   Cases_SierraLeone    87 non-null     float64       \n",
            " 5   Cases_Nigeria        38 non-null     float64       \n",
            " 6   Cases_Senegal        25 non-null     float64       \n",
            " 7   Cases_UnitedStates   18 non-null     float64       \n",
            " 8   Cases_Spain          16 non-null     float64       \n",
            " 9   Cases_Mali           12 non-null     float64       \n",
            " 10  Deaths_Guinea        92 non-null     float64       \n",
            " 11  Deaths_Liberia       81 non-null     float64       \n",
            " 12  Deaths_SierraLeone   87 non-null     float64       \n",
            " 13  Deaths_Nigeria       38 non-null     float64       \n",
            " 14  Deaths_Senegal       22 non-null     float64       \n",
            " 15  Deaths_UnitedStates  18 non-null     float64       \n",
            " 16  Deaths_Spain         16 non-null     float64       \n",
            " 17  Deaths_Mali          12 non-null     float64       \n",
            " 18  date_dt              122 non-null    datetime64[ns]\n",
            " 19  year                 122 non-null    int64         \n",
            " 20  month                122 non-null    int64         \n",
            " 21  day                  122 non-null    int64         \n",
            "dtypes: datetime64[ns](1), float64(16), int64(4), object(1)\n",
            "memory usage: 21.1+ KB\n",
            "None\n"
          ]
        }
      ]
    },
    {
      "cell_type": "markdown",
      "source": [
        "# 12-2. 사례별 시계열 데이터 계산하기  \n",
        "### 에볼라 최초 발병일 계산하기"
      ],
      "metadata": {
        "id": "gGlwkkMjYSGY"
      }
    },
    {
      "cell_type": "code",
      "source": [
        "# ebola 데이터프레임 데이터- 시간 역순으로 정렬되어 있음 -> 시간 순으로 보려면 마지막부터 봐야 함.\n",
        "print(ebola.iloc[-5:, :5])"
      ],
      "metadata": {
        "colab": {
          "base_uri": "https://localhost:8080/"
        },
        "id": "ib7f5t26YZnU",
        "outputId": "f624febd-e6ae-4c0d-c414-99caf49b23c1"
      },
      "execution_count": 120,
      "outputs": [
        {
          "output_type": "stream",
          "name": "stdout",
          "text": [
            "          Date  Day  Cases_Guinea  Cases_Liberia  Cases_SierraLeone\n",
            "117  3/27/2014    5         103.0            8.0                6.0\n",
            "118  3/26/2014    4          86.0            NaN                NaN\n",
            "119  3/25/2014    3          86.0            NaN                NaN\n",
            "120  3/24/2014    2          86.0            NaN                NaN\n",
            "121  3/22/2014    0          49.0            NaN                NaN\n"
          ]
        }
      ]
    },
    {
      "cell_type": "code",
      "source": [
        "# min 메서드 사용 -> 최초 발병일 찾기\n",
        "print(ebola['date_dt'].min())\n",
        "print(type(ebola['date_dt'].min()))"
      ],
      "metadata": {
        "colab": {
          "base_uri": "https://localhost:8080/"
        },
        "id": "CUAd_ogJYmFe",
        "outputId": "83037a96-5257-4dda-9e77-46a3ba19f4ee"
      },
      "execution_count": 121,
      "outputs": [
        {
          "output_type": "stream",
          "name": "stdout",
          "text": [
            "2014-03-22 00:00:00\n",
            "<class 'pandas._libs.tslibs.timestamps.Timestamp'>\n"
          ]
        }
      ]
    },
    {
      "cell_type": "code",
      "source": [
        "# Date 열 - 에볼라 최초 발병일 = 에볼라 진행 정도\n",
        "ebola['outbreak_d'] = ebola['date_dt'] - ebola['date_dt'].min()\n",
        "\n",
        "print(ebola[['Date', 'Day', 'outbreak_d']].head())"
      ],
      "metadata": {
        "colab": {
          "base_uri": "https://localhost:8080/"
        },
        "id": "dlcRzNWWY9nC",
        "outputId": "00e96419-61dd-451f-dd5f-ecfb471fe4e4"
      },
      "execution_count": 122,
      "outputs": [
        {
          "output_type": "stream",
          "name": "stdout",
          "text": [
            "         Date  Day outbreak_d\n",
            "0    1/5/2015  289   289 days\n",
            "1    1/4/2015  288   288 days\n",
            "2    1/3/2015  287   287 days\n",
            "3    1/2/2015  286   286 days\n",
            "4  12/31/2014  284   284 days\n"
          ]
        }
      ]
    },
    {
      "cell_type": "markdown",
      "source": [
        "### 파산한 은행의 개수 계산하기  \n",
        "분기별로 파산한 은행이 얼마나 되는지 계산. 그래프로 시각화."
      ],
      "metadata": {
        "id": "Wg7IGne6ZYZR"
      }
    },
    {
      "cell_type": "code",
      "source": [
        "# Closing Date, Updated Date 열의 데이터 자료형 - 시계열 데이터임을 알 수 있음.\n",
        "banks = pd.read_csv('banklist.csv')\n",
        "print(banks.head())"
      ],
      "metadata": {
        "colab": {
          "base_uri": "https://localhost:8080/"
        },
        "id": "aTX2g3NKZp0Y",
        "outputId": "6b074c22-fef7-420c-c1cf-84f9037cdb82"
      },
      "execution_count": 123,
      "outputs": [
        {
          "output_type": "stream",
          "name": "stdout",
          "text": [
            "                                           Bank Name         City  ST   CERT  \\\n",
            "0                Washington Federal Bank for Savings      Chicago  IL  30570   \n",
            "1    The Farmers and Merchants State Bank of Argonia      Argonia  KS  17719   \n",
            "2                                Fayette County Bank   Saint Elmo  IL   1802   \n",
            "3  Guaranty Bank, (d/b/a BestBank in Georgia & Mi...    Milwaukee  WI  30003   \n",
            "4                                     First NBC Bank  New Orleans  LA  58302   \n",
            "\n",
            "                 Acquiring Institution Closing Date Updated Date  \n",
            "0                   Royal Savings Bank    15-Dec-17    20-Dec-17  \n",
            "1                          Conway Bank    13-Oct-17    20-Oct-17  \n",
            "2            United Fidelity Bank, fsb    26-May-17    26-Jul-17  \n",
            "3  First-Citizens Bank & Trust Company     5-May-17    26-Jul-17  \n",
            "4                         Whitney Bank    28-Apr-17     5-Dec-17  \n"
          ]
        }
      ]
    },
    {
      "cell_type": "code",
      "source": [
        "# Closing Date, Updated Date 열의 데이터 자료형 - 문자열 \n",
        "banks_no_dates = pd.read_csv('banklist.csv')\n",
        "print(banks_no_dates.info())\n",
        "\n",
        "# read_csv 메서드의 parse_dates 속성 이용해 datetime 오브젝트로 변환해 불러오기\n",
        "banks = pd.read_csv('banklist.csv', parse_dates=[5,6])\n",
        "print(banks.info())"
      ],
      "metadata": {
        "colab": {
          "base_uri": "https://localhost:8080/"
        },
        "id": "EJlOQstIZ6Iw",
        "outputId": "cb377be5-f650-4f4f-f88d-e8c2678741ee"
      },
      "execution_count": 124,
      "outputs": [
        {
          "output_type": "stream",
          "name": "stdout",
          "text": [
            "<class 'pandas.core.frame.DataFrame'>\n",
            "RangeIndex: 555 entries, 0 to 554\n",
            "Data columns (total 7 columns):\n",
            " #   Column                 Non-Null Count  Dtype \n",
            "---  ------                 --------------  ----- \n",
            " 0   Bank Name              555 non-null    object\n",
            " 1   City                   555 non-null    object\n",
            " 2   ST                     555 non-null    object\n",
            " 3   CERT                   555 non-null    int64 \n",
            " 4   Acquiring Institution  555 non-null    object\n",
            " 5   Closing Date           555 non-null    object\n",
            " 6   Updated Date           555 non-null    object\n",
            "dtypes: int64(1), object(6)\n",
            "memory usage: 30.5+ KB\n",
            "None\n",
            "<class 'pandas.core.frame.DataFrame'>\n",
            "RangeIndex: 555 entries, 0 to 554\n",
            "Data columns (total 7 columns):\n",
            " #   Column                 Non-Null Count  Dtype         \n",
            "---  ------                 --------------  -----         \n",
            " 0   Bank Name              555 non-null    object        \n",
            " 1   City                   555 non-null    object        \n",
            " 2   ST                     555 non-null    object        \n",
            " 3   CERT                   555 non-null    int64         \n",
            " 4   Acquiring Institution  555 non-null    object        \n",
            " 5   Closing Date           555 non-null    datetime64[ns]\n",
            " 6   Updated Date           555 non-null    datetime64[ns]\n",
            "dtypes: datetime64[ns](2), int64(1), object(4)\n",
            "memory usage: 30.5+ KB\n",
            "None\n"
          ]
        }
      ]
    },
    {
      "cell_type": "code",
      "source": [
        "# dt 접근자, quarter 속성 이용 - 은행이 파산한 분기 알아내기\n",
        "# dt 접근자, year, quarter 속성 이용 -> 은행이 파산한 연도, 분기 새로운 열로 추가\n",
        "banks['closing_quarter'], banks['closing_year'] = (banks['Closing Date'].dt.quarter, banks['Closing Date'].dt.year)\n",
        "\n",
        "print(banks.head())"
      ],
      "metadata": {
        "colab": {
          "base_uri": "https://localhost:8080/"
        },
        "id": "SKvy1KoSaTS9",
        "outputId": "0f92c6de-b14f-42a6-e5c0-08121b1d9938"
      },
      "execution_count": 125,
      "outputs": [
        {
          "output_type": "stream",
          "name": "stdout",
          "text": [
            "                                           Bank Name         City  ST   CERT  \\\n",
            "0                Washington Federal Bank for Savings      Chicago  IL  30570   \n",
            "1    The Farmers and Merchants State Bank of Argonia      Argonia  KS  17719   \n",
            "2                                Fayette County Bank   Saint Elmo  IL   1802   \n",
            "3  Guaranty Bank, (d/b/a BestBank in Georgia & Mi...    Milwaukee  WI  30003   \n",
            "4                                     First NBC Bank  New Orleans  LA  58302   \n",
            "\n",
            "                 Acquiring Institution Closing Date Updated Date  \\\n",
            "0                   Royal Savings Bank   2017-12-15   2017-12-20   \n",
            "1                          Conway Bank   2017-10-13   2017-10-20   \n",
            "2            United Fidelity Bank, fsb   2017-05-26   2017-07-26   \n",
            "3  First-Citizens Bank & Trust Company   2017-05-05   2017-07-26   \n",
            "4                         Whitney Bank   2017-04-28   2017-12-05   \n",
            "\n",
            "   closing_quarter  closing_year  \n",
            "0                4          2017  \n",
            "1                4          2017  \n",
            "2                2          2017  \n",
            "3                2          2017  \n",
            "4                2          2017  \n"
          ]
        }
      ]
    },
    {
      "cell_type": "code",
      "source": [
        "# 연도별로 파산한 은행 개수 구하기- groupby 메서드 이용\n",
        "closing_year = banks.groupby(['closing_year']).size()\n",
        "print(closing_year)"
      ],
      "metadata": {
        "colab": {
          "base_uri": "https://localhost:8080/"
        },
        "id": "K-UY_EyCbZB-",
        "outputId": "abb66e15-aab6-4e93-9426-692fb9984efa"
      },
      "execution_count": 126,
      "outputs": [
        {
          "output_type": "stream",
          "name": "stdout",
          "text": [
            "closing_year\n",
            "2000      2\n",
            "2001      4\n",
            "2002     11\n",
            "2003      3\n",
            "2004      4\n",
            "2007      3\n",
            "2008     25\n",
            "2009    140\n",
            "2010    157\n",
            "2011     92\n",
            "2012     51\n",
            "2013     24\n",
            "2014     18\n",
            "2015      8\n",
            "2016      5\n",
            "2017      8\n",
            "dtype: int64\n"
          ]
        }
      ]
    },
    {
      "cell_type": "code",
      "source": [
        "# 각 연도별, 분기별 파산한 은행 개수 구하기- 연도별 그룹화 후 다시 분기별 그룹화\n",
        "closing_year_q = banks.groupby(['closing_year', 'closing_quarter']).size()\n",
        "print(closing_year_q)"
      ],
      "metadata": {
        "colab": {
          "base_uri": "https://localhost:8080/"
        },
        "id": "03VP5ykFbu9j",
        "outputId": "711101d8-fe4f-47be-ed97-c0ede03a9271"
      },
      "execution_count": 127,
      "outputs": [
        {
          "output_type": "stream",
          "name": "stdout",
          "text": [
            "closing_year  closing_quarter\n",
            "2000          4                   2\n",
            "2001          1                   1\n",
            "              2                   1\n",
            "              3                   2\n",
            "2002          1                   6\n",
            "              2                   2\n",
            "              3                   1\n",
            "              4                   2\n",
            "2003          1                   1\n",
            "              2                   1\n",
            "              4                   1\n",
            "2004          1                   3\n",
            "              2                   1\n",
            "2007          1                   1\n",
            "              3                   1\n",
            "              4                   1\n",
            "2008          1                   2\n",
            "              2                   2\n",
            "              3                   9\n",
            "              4                  12\n",
            "2009          1                  21\n",
            "              2                  24\n",
            "              3                  50\n",
            "              4                  45\n",
            "2010          1                  41\n",
            "              2                  45\n",
            "              3                  41\n",
            "              4                  30\n",
            "2011          1                  26\n",
            "              2                  22\n",
            "              3                  26\n",
            "              4                  18\n",
            "2012          1                  16\n",
            "              2                  15\n",
            "              3                  12\n",
            "              4                   8\n",
            "2013          1                   4\n",
            "              2                  12\n",
            "              3                   6\n",
            "              4                   2\n",
            "2014          1                   5\n",
            "              2                   7\n",
            "              3                   2\n",
            "              4                   4\n",
            "2015          1                   4\n",
            "              2                   1\n",
            "              3                   1\n",
            "              4                   2\n",
            "2016          1                   1\n",
            "              2                   2\n",
            "              3                   2\n",
            "2017          1                   3\n",
            "              2                   3\n",
            "              4                   2\n",
            "dtype: int64\n"
          ]
        }
      ]
    },
    {
      "cell_type": "code",
      "source": [
        "# 그래프 그리기\n",
        "import matplotlib.pyplot as plt\n",
        "\n",
        "fig, ax = plt.subplots()\n",
        "\n",
        "ax = closing_year.plot()"
      ],
      "metadata": {
        "colab": {
          "base_uri": "https://localhost:8080/",
          "height": 450
        },
        "id": "5hUPtB6acFLR",
        "outputId": "1064d97d-0e83-41c4-ab0d-7d5d62334a26"
      },
      "execution_count": 128,
      "outputs": [
        {
          "output_type": "display_data",
          "data": {
            "text/plain": [
              "<Figure size 640x480 with 1 Axes>"
            ],
            "image/png": "[encoded data removed]"
          },
          "metadata": {}
        }
      ]
    },
    {
      "cell_type": "markdown",
      "source": [
        "## 시간 범위 수정하고 데이터 밀어내기- shift 메서드  \n",
        "\n",
        "### 에볼라의 확산 속도 비교하기"
      ],
      "metadata": {
        "id": "JqOP6Y6_cLnq"
      }
    },
    {
      "cell_type": "code",
      "source": [
        "# Date 열 인덱스로 지정\n",
        "ebola = pd.read_csv('country_timeseries.csv')\n",
        "ebola.index = ebola['Date']\n",
        "\n",
        "# x축: Date 열, y축: 사망자 수\n",
        "import matplotlib.pyplot as plt\n",
        "\n",
        "fig, ax = plt.subplots()\n",
        "ax = ebola.iloc[0:, 1:].plot(ax=ax)\n",
        "ax.legend(fontsize=7,loc=2, borderaxespad=0)\n",
        "plt.show()"
      ],
      "metadata": {
        "colab": {
          "base_uri": "https://localhost:8080/",
          "height": 449
        },
        "id": "Tw0eqMxgg6eU",
        "outputId": "26705ee2-c2f3-49ad-fc2d-3b552f710736"
      },
      "execution_count": 129,
      "outputs": [
        {
          "output_type": "display_data",
          "data": {
            "text/plain": [
              "<Figure size 640x480 with 1 Axes>"
            ],
            "image/png": "[encoded data removed]"
          },
          "metadata": {}
        }
      ]
    },
    {
      "cell_type": "code",
      "source": [
        "# 각 나라의 에볼라 발병일이 달라 그래프가 그려지는 시작점이 다름을 알 수 있음.\n",
        "# 각 나라의 발병일을 가장 처음 에볼라가 발병한 Guinea와 동일한 위치로 옮겨야 나라별 에볼라의 확산 속도를 제대로 비교할 수 있다.\n",
        "\n",
        "ebola_sub = ebola[['Day', 'Cases_Guinea','Cases_Liberia']]\n",
        "print(ebola_sub.tail(10))"
      ],
      "metadata": {
        "colab": {
          "base_uri": "https://localhost:8080/"
        },
        "id": "kLt1JeHxhRTc",
        "outputId": "bb37a1ad-729a-4b13-f41a-b54f5f747d3a"
      },
      "execution_count": 130,
      "outputs": [
        {
          "output_type": "stream",
          "name": "stdout",
          "text": [
            "           Day  Cases_Guinea  Cases_Liberia\n",
            "Date                                       \n",
            "4/4/2014    13         143.0           18.0\n",
            "4/1/2014    10         127.0            8.0\n",
            "3/31/2014    9         122.0            8.0\n",
            "3/29/2014    7         112.0            7.0\n",
            "3/28/2014    6         112.0            3.0\n",
            "3/27/2014    5         103.0            8.0\n",
            "3/26/2014    4          86.0            NaN\n",
            "3/25/2014    3          86.0            NaN\n",
            "3/24/2014    2          86.0            NaN\n",
            "3/22/2014    0          49.0            NaN\n"
          ]
        }
      ]
    },
    {
      "cell_type": "code",
      "source": [
        "# Date 열의 자료형 datetime 오브젝트로 변환\n",
        "ebola = pd.read_csv('country_timeseries.csv', parse_dates=['Date'])\n",
        "\n",
        "# 중간에 날짜가 없는 데이터(2015-01-01)가 있음 발견\n",
        "print(ebola.head().iloc[:, :5])\n",
        "print(ebola.tail().iloc[:, :5])"
      ],
      "metadata": {
        "colab": {
          "base_uri": "https://localhost:8080/"
        },
        "id": "l6AU7qdYiQ56",
        "outputId": "6d3c7d7e-04f6-4c86-ee9e-b6a5dfdf91ec"
      },
      "execution_count": 131,
      "outputs": [
        {
          "output_type": "stream",
          "name": "stdout",
          "text": [
            "        Date  Day  Cases_Guinea  Cases_Liberia  Cases_SierraLeone\n",
            "0 2015-01-05  289        2776.0            NaN            10030.0\n",
            "1 2015-01-04  288        2775.0            NaN             9780.0\n",
            "2 2015-01-03  287        2769.0         8166.0             9722.0\n",
            "3 2015-01-02  286           NaN         8157.0                NaN\n",
            "4 2014-12-31  284        2730.0         8115.0             9633.0\n",
            "          Date  Day  Cases_Guinea  Cases_Liberia  Cases_SierraLeone\n",
            "117 2014-03-27    5         103.0            8.0                6.0\n",
            "118 2014-03-26    4          86.0            NaN                NaN\n",
            "119 2014-03-25    3          86.0            NaN                NaN\n",
            "120 2014-03-24    2          86.0            NaN                NaN\n",
            "121 2014-03-22    0          49.0            NaN                NaN\n"
          ]
        }
      ]
    },
    {
      "cell_type": "code",
      "source": [
        "# Date 열 인덱스로 지정\n",
        "ebola.index = ebola['Date']\n",
        "\n",
        "# Date 열의 최댓값과 최솟값으로 시간 범위 생성 -> new_idx에 저장 -> 날짜가 아예 없었던 데이터의 인덱스 생성\n",
        "new_idx = pd.date_range(ebola.index.min(), ebola.index.max())"
      ],
      "metadata": {
        "id": "ajj7WNiTiq_1"
      },
      "execution_count": 132,
      "outputs": []
    },
    {
      "cell_type": "code",
      "source": [
        "# new_idx를 보면 시간 순서가 반대로 생성되어 있음.\n",
        "print(new_idx)\n",
        "\n",
        "# 시간 순서를 맞추기 위해 reversed 메서드 사용 -> 인덱스 반대로 뒤집기\n",
        "new_idx = reversed(new_idx)"
      ],
      "metadata": {
        "colab": {
          "base_uri": "https://localhost:8080/"
        },
        "id": "I0_7zU4KjNUd",
        "outputId": "65666bf0-4d16-4501-e45d-94c31183ea4a"
      },
      "execution_count": 133,
      "outputs": [
        {
          "output_type": "stream",
          "name": "stdout",
          "text": [
            "DatetimeIndex(['2014-03-22', '2014-03-23', '2014-03-24', '2014-03-25',\n",
            "               '2014-03-26', '2014-03-27', '2014-03-28', '2014-03-29',\n",
            "               '2014-03-30', '2014-03-31',\n",
            "               ...\n",
            "               '2014-12-27', '2014-12-28', '2014-12-29', '2014-12-30',\n",
            "               '2014-12-31', '2015-01-01', '2015-01-02', '2015-01-03',\n",
            "               '2015-01-04', '2015-01-05'],\n",
            "              dtype='datetime64[ns]', length=290, freq='D')\n"
          ]
        }
      ]
    },
    {
      "cell_type": "code",
      "source": [
        "# reindex 메서드 사용- 새로 생성한 인덱스(new_idx)를 새로운 인덱스로 지정 \n",
        "ebola = ebola.reindex(new_idx)\n",
        "\n",
        "# -> ebola 데이터프레임에 아예 없었던 날짜가 이제 추가됨\n",
        "print(ebola.head().iloc[:, :5])\n",
        "print(ebola.tail().iloc[:, :5])\n",
        "\n",
        "# 시간에 대한 누락값은 NaT"
      ],
      "metadata": {
        "colab": {
          "base_uri": "https://localhost:8080/"
        },
        "id": "2NFmy87fjc6V",
        "outputId": "093bb752-d695-4897-9cef-1bb30ba9c4bb"
      },
      "execution_count": 134,
      "outputs": [
        {
          "output_type": "stream",
          "name": "stdout",
          "text": [
            "                 Date    Day  Cases_Guinea  Cases_Liberia  Cases_SierraLeone\n",
            "Date                                                                        \n",
            "2015-01-05 2015-01-05  289.0        2776.0            NaN            10030.0\n",
            "2015-01-04 2015-01-04  288.0        2775.0            NaN             9780.0\n",
            "2015-01-03 2015-01-03  287.0        2769.0         8166.0             9722.0\n",
            "2015-01-02 2015-01-02  286.0           NaN         8157.0                NaN\n",
            "2015-01-01        NaT    NaN           NaN            NaN                NaN\n",
            "                 Date  Day  Cases_Guinea  Cases_Liberia  Cases_SierraLeone\n",
            "Date                                                                      \n",
            "2014-03-26 2014-03-26  4.0          86.0            NaN                NaN\n",
            "2014-03-25 2014-03-25  3.0          86.0            NaN                NaN\n",
            "2014-03-24 2014-03-24  2.0          86.0            NaN                NaN\n",
            "2014-03-23        NaT  NaN           NaN            NaN                NaN\n",
            "2014-03-22 2014-03-22  0.0          49.0            NaN                NaN\n"
          ]
        }
      ]
    },
    {
      "cell_type": "code",
      "source": [
        "# 각 나라의 에볼라 발병일 구하기\n",
        "# last_valid: 가장 오래된 데이터, first_valid: 가장 최근의 데이터\n",
        "\n",
        "last_valid = ebola.apply(pd.Series.last_valid_index)\n",
        "print(last_valid)\n",
        "\n",
        "first_valid = ebola.apply(pd.Series.first_valid_index)\n",
        "print(first_valid)"
      ],
      "metadata": {
        "colab": {
          "base_uri": "https://localhost:8080/"
        },
        "id": "QRlROpqEj1Ny",
        "outputId": "9d15ecf5-f1d1-4fec-855e-ce71df7386ad"
      },
      "execution_count": 135,
      "outputs": [
        {
          "output_type": "stream",
          "name": "stdout",
          "text": [
            "Date                  2014-03-22\n",
            "Day                   2014-03-22\n",
            "Cases_Guinea          2014-03-22\n",
            "Cases_Liberia         2014-03-27\n",
            "Cases_SierraLeone     2014-03-27\n",
            "Cases_Nigeria         2014-07-23\n",
            "Cases_Senegal         2014-08-31\n",
            "Cases_UnitedStates    2014-10-01\n",
            "Cases_Spain           2014-10-08\n",
            "Cases_Mali            2014-10-22\n",
            "Deaths_Guinea         2014-03-22\n",
            "Deaths_Liberia        2014-03-27\n",
            "Deaths_SierraLeone    2014-03-27\n",
            "Deaths_Nigeria        2014-07-23\n",
            "Deaths_Senegal        2014-09-07\n",
            "Deaths_UnitedStates   2014-10-01\n",
            "Deaths_Spain          2014-10-08\n",
            "Deaths_Mali           2014-10-22\n",
            "dtype: datetime64[ns]\n",
            "Date                  2015-01-05\n",
            "Day                   2015-01-05\n",
            "Cases_Guinea          2015-01-05\n",
            "Cases_Liberia         2015-01-03\n",
            "Cases_SierraLeone     2015-01-05\n",
            "Cases_Nigeria         2014-12-07\n",
            "Cases_Senegal         2014-12-07\n",
            "Cases_UnitedStates    2014-12-07\n",
            "Cases_Spain           2014-12-07\n",
            "Cases_Mali            2014-12-07\n",
            "Deaths_Guinea         2015-01-05\n",
            "Deaths_Liberia        2015-01-03\n",
            "Deaths_SierraLeone    2015-01-05\n",
            "Deaths_Nigeria        2014-12-07\n",
            "Deaths_Senegal        2014-12-07\n",
            "Deaths_UnitedStates   2014-12-07\n",
            "Deaths_Spain          2014-12-07\n",
            "Deaths_Mali           2014-12-07\n",
            "dtype: datetime64[ns]\n"
          ]
        }
      ]
    },
    {
      "cell_type": "code",
      "source": [
        "# 각 나라의 에볼라 발병일 동일한 출발선으로 옮기기- shift_values 만큼 옮기기\n",
        "earliest_date = ebola.index.min()\n",
        "print(earliest_date)\n",
        "\n",
        "# shift_values = 가장 처음 발병한 날(earliest_date) - 각 나라의 에볼라 발병일\n",
        "shift_values = last_valid - first_valid\n",
        "print(shift_values)"
      ],
      "metadata": {
        "colab": {
          "base_uri": "https://localhost:8080/"
        },
        "id": "IjR87-QrkjdY",
        "outputId": "f46c2615-9f90-4f8f-b1f8-4f0a42fc34a7"
      },
      "execution_count": 136,
      "outputs": [
        {
          "output_type": "stream",
          "name": "stdout",
          "text": [
            "2014-03-22 00:00:00\n",
            "Date                  -289 days\n",
            "Day                   -289 days\n",
            "Cases_Guinea          -289 days\n",
            "Cases_Liberia         -282 days\n",
            "Cases_SierraLeone     -284 days\n",
            "Cases_Nigeria         -137 days\n",
            "Cases_Senegal          -98 days\n",
            "Cases_UnitedStates     -67 days\n",
            "Cases_Spain            -60 days\n",
            "Cases_Mali             -46 days\n",
            "Deaths_Guinea         -289 days\n",
            "Deaths_Liberia        -282 days\n",
            "Deaths_SierraLeone    -284 days\n",
            "Deaths_Nigeria        -137 days\n",
            "Deaths_Senegal         -91 days\n",
            "Deaths_UnitedStates    -67 days\n",
            "Deaths_Spain           -60 days\n",
            "Deaths_Mali            -46 days\n",
            "dtype: timedelta64[ns]\n"
          ]
        }
      ]
    },
    {
      "cell_type": "code",
      "source": [
        "# shift 메서드 사용 -> 모든 열의 값 shift_values 값만큼 옮기기\n",
        "# shift: 인자값만큼 데이터를 밀어내는 메서드\n",
        "ebola_dict = {}\n",
        "\n",
        "for idx, col in enumerate(ebola):\n",
        "  d = shift_values[idx].days\n",
        "  shifted = ebola[col].shift(d)\n",
        "  ebola_dict[col] = shifted"
      ],
      "metadata": {
        "id": "Ixxzj9aalPjq"
      },
      "execution_count": 137,
      "outputs": []
    },
    {
      "cell_type": "code",
      "source": [
        "# ebola_dict: 시간을 재설정한 데이터가 딕셔너리 형태로 저장되어 있음 -> 데이터프레임으로 변환(DataFrame 메서드 이용)\n",
        "ebola_shift = pd.DataFrame(ebola_dict)"
      ],
      "metadata": {
        "id": "AjCFDWWolrxk"
      },
      "execution_count": 138,
      "outputs": []
    },
    {
      "cell_type": "code",
      "source": [
        "# 이제 최초 발병일(2014-03-22) 기준으로 모든 열의 데이터 옮겨짐.\n",
        "print(ebola_shift.tail())"
      ],
      "metadata": {
        "colab": {
          "base_uri": "https://localhost:8080/"
        },
        "id": "fnxSFoiKl_J8",
        "outputId": "c2a3c44a-9634-4419-fcab-b2e883fd592d"
      },
      "execution_count": 139,
      "outputs": [
        {
          "output_type": "stream",
          "name": "stdout",
          "text": [
            "           Date  Day  Cases_Guinea  Cases_Liberia  Cases_SierraLeone  \\\n",
            "Date                                                                   \n",
            "2014-03-26  NaT  NaN           NaN            NaN                NaN   \n",
            "2014-03-25  NaT  NaN           NaN            NaN                NaN   \n",
            "2014-03-24  NaT  NaN           NaN            NaN                NaN   \n",
            "2014-03-23  NaT  NaN           NaN            NaN                NaN   \n",
            "2014-03-22  NaT  NaN           NaN            NaN                NaN   \n",
            "\n",
            "            Cases_Nigeria  Cases_Senegal  Cases_UnitedStates  Cases_Spain  \\\n",
            "Date                                                                        \n",
            "2014-03-26            NaN            NaN                 NaN          NaN   \n",
            "2014-03-25            NaN            NaN                 NaN          NaN   \n",
            "2014-03-24            NaN            NaN                 NaN          NaN   \n",
            "2014-03-23            NaN            NaN                 NaN          NaN   \n",
            "2014-03-22            NaN            NaN                 NaN          NaN   \n",
            "\n",
            "            Cases_Mali  Deaths_Guinea  Deaths_Liberia  Deaths_SierraLeone  \\\n",
            "Date                                                                        \n",
            "2014-03-26         NaN            NaN             NaN                 NaN   \n",
            "2014-03-25         NaN            NaN             NaN                 NaN   \n",
            "2014-03-24         NaN            NaN             NaN                 NaN   \n",
            "2014-03-23         NaN            NaN             NaN                 NaN   \n",
            "2014-03-22         NaN            NaN             NaN                 NaN   \n",
            "\n",
            "            Deaths_Nigeria  Deaths_Senegal  Deaths_UnitedStates  Deaths_Spain  \\\n",
            "Date                                                                            \n",
            "2014-03-26             NaN             NaN                  NaN           NaN   \n",
            "2014-03-25             NaN             NaN                  NaN           NaN   \n",
            "2014-03-24             NaN             NaN                  NaN           NaN   \n",
            "2014-03-23             NaN             NaN                  NaN           NaN   \n",
            "2014-03-22             NaN             NaN                  NaN           NaN   \n",
            "\n",
            "            Deaths_Mali  \n",
            "Date                     \n",
            "2014-03-26          NaN  \n",
            "2014-03-25          NaN  \n",
            "2014-03-24          NaN  \n",
            "2014-03-23          NaN  \n",
            "2014-03-22          NaN  \n"
          ]
        }
      ]
    },
    {
      "cell_type": "code",
      "source": [
        "# 그래프를 그리기 위한 데이터프레임 만들기\n",
        "# 인덱스 Day 열로 지정\n",
        "# 그래프에 필요 없는 Date, Day 열 삭제\n",
        "\n",
        "ebola_shift.index = ebola_shift['Day']\n",
        "ebola_shift = ebola_shift.drop(['Date', 'Day'], axis = 1)\n",
        "\n",
        "print(ebola_shift.tail())"
      ],
      "metadata": {
        "colab": {
          "base_uri": "https://localhost:8080/"
        },
        "id": "NdCvE7FRmXJ4",
        "outputId": "60a3d48a-4ca4-4860-e6c1-34807c1f2578"
      },
      "execution_count": 140,
      "outputs": [
        {
          "output_type": "stream",
          "name": "stdout",
          "text": [
            "     Cases_Guinea  Cases_Liberia  Cases_SierraLeone  Cases_Nigeria  \\\n",
            "Day                                                                  \n",
            "NaN           NaN            NaN                NaN            NaN   \n",
            "NaN           NaN            NaN                NaN            NaN   \n",
            "NaN           NaN            NaN                NaN            NaN   \n",
            "NaN           NaN            NaN                NaN            NaN   \n",
            "NaN           NaN            NaN                NaN            NaN   \n",
            "\n",
            "     Cases_Senegal  Cases_UnitedStates  Cases_Spain  Cases_Mali  \\\n",
            "Day                                                               \n",
            "NaN            NaN                 NaN          NaN         NaN   \n",
            "NaN            NaN                 NaN          NaN         NaN   \n",
            "NaN            NaN                 NaN          NaN         NaN   \n",
            "NaN            NaN                 NaN          NaN         NaN   \n",
            "NaN            NaN                 NaN          NaN         NaN   \n",
            "\n",
            "     Deaths_Guinea  Deaths_Liberia  Deaths_SierraLeone  Deaths_Nigeria  \\\n",
            "Day                                                                      \n",
            "NaN            NaN             NaN                 NaN             NaN   \n",
            "NaN            NaN             NaN                 NaN             NaN   \n",
            "NaN            NaN             NaN                 NaN             NaN   \n",
            "NaN            NaN             NaN                 NaN             NaN   \n",
            "NaN            NaN             NaN                 NaN             NaN   \n",
            "\n",
            "     Deaths_Senegal  Deaths_UnitedStates  Deaths_Spain  Deaths_Mali  \n",
            "Day                                                                  \n",
            "NaN             NaN                  NaN           NaN          NaN  \n",
            "NaN             NaN                  NaN           NaN          NaN  \n",
            "NaN             NaN                  NaN           NaN          NaN  \n",
            "NaN             NaN                  NaN           NaN          NaN  \n",
            "NaN             NaN                  NaN           NaN          NaN  \n"
          ]
        }
      ]
    },
    {
      "cell_type": "code",
      "source": [
        "# 그래프 그리기\n",
        "# x축이 Day로 변경됨\n",
        "fig, ax = plt.subplots()\n",
        "ax = ebola_shift.iloc[:, :].plot(ax=ax)\n",
        "ax.legend(fontsize=7, loc=2, borderaxespad=0)\n",
        "plt.show()"
      ],
      "metadata": {
        "colab": {
          "base_uri": "https://localhost:8080/",
          "height": 449
        },
        "id": "xSIKI3n7m35S",
        "outputId": "ca511ffd-2dfe-4b38-f757-18bd3d235056"
      },
      "execution_count": 141,
      "outputs": [
        {
          "output_type": "display_data",
          "data": {
            "text/plain": [
              "<Figure size 640x480 with 1 Axes>"
            ],
            "image/png": "[encoded data removed]"
          },
          "metadata": {}
        }
      ]
    },
    {
      "cell_type": "markdown",
      "source": [
        "**마무리**  \n",
        "- 판다스 라이브러리- 시간을 다룰 수 있는 다양한 기능 제공\n",
        "- 시계열 데이터와 깊은 연관성 있는 에볼라 데이터, 주식 데이터를 다루어 봄.\n",
        "- 우리 주변의 상당수 데이터는 시간과 깊은 연관성이 있는 경우가 많음.\n",
        "- 시계열 데이터를 능숙하게 다루는 것은 데이터 분석가의 기본 소양!"
      ],
      "metadata": {
        "id": "dk_PdOvfnRHf"
      }
    }
  ]
}